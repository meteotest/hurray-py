{
 "cells": [
  {
   "cell_type": "markdown",
   "metadata": {},
   "source": [
    "# Hurray basic usage"
   ]
  },
  {
   "cell_type": "code",
   "execution_count": 7,
   "metadata": {
    "collapsed": true
   },
   "outputs": [],
   "source": [
    "import os\n",
    "import sys\n",
    "module_path = os.path.abspath(os.path.join('..'))\n",
    "if module_path not in sys.path:\n",
    "    sys.path.append(module_path)"
   ]
  },
  {
   "cell_type": "code",
   "execution_count": 8,
   "metadata": {},
   "outputs": [],
   "source": [
    "import hurraypy as hr\n",
    "import numpy as np"
   ]
  },
  {
   "cell_type": "markdown",
   "metadata": {},
   "source": [
    "Make sure a hurray server instance is running at localhost:2222."
   ]
  },
  {
   "cell_type": "code",
   "execution_count": 9,
   "metadata": {},
   "outputs": [
    {
     "data": {
      "text/plain": [
       "'0.0.3'"
      ]
     },
     "execution_count": 9,
     "metadata": {},
     "output_type": "execute_result"
    }
   ],
   "source": [
    "hr.__version__"
   ]
  },
  {
   "cell_type": "code",
   "execution_count": 10,
   "metadata": {},
   "outputs": [],
   "source": [
    "conn = hr.connect('localhost', '2222')"
   ]
  },
  {
   "cell_type": "code",
   "execution_count": 11,
   "metadata": {},
   "outputs": [
    {
     "data": {
      "text/plain": [
       "<Connection (host=localhost, port=2222)>"
      ]
     },
     "execution_count": 11,
     "metadata": {},
     "output_type": "execute_result"
    }
   ],
   "source": [
    "conn"
   ]
  },
  {
   "cell_type": "code",
   "execution_count": 12,
   "metadata": {},
   "outputs": [],
   "source": [
    "db = conn.create_file(\"test.h5\", overwrite=True)"
   ]
  },
  {
   "cell_type": "code",
   "execution_count": 13,
   "metadata": {},
   "outputs": [
    {
     "data": {
      "text/html": [
       "\n",
       "<svg style=\"display: inline-block !important;margin-right: 2px !important;vertical-align: bottom;\" xmlns=\"http://www.w3.org/2000/svg\" width=\"20\"\n",
       "  height=\"20\" viewBox=\"0 0 20 20\">\n",
       "    <path fill=\"#2385ae\" d=\"M2 3v14h16V5h-8L8 3z\"/>\n",
       "</svg>\n",
       "<strong>File test.h5</strong> (800b)"
      ],
      "text/plain": [
       "<File (db=test.h5, path=/)>"
      ]
     },
     "execution_count": 13,
     "metadata": {},
     "output_type": "execute_result"
    }
   ],
   "source": [
    "db"
   ]
  },
  {
   "cell_type": "code",
   "execution_count": 14,
   "metadata": {},
   "outputs": [
    {
     "ename": "ServerError",
     "evalue": "(500, 'internal server error')",
     "output_type": "error",
     "traceback": [
      "\u001b[0;31m---------------------------------------------------------------------------\u001b[0m",
      "\u001b[0;31mServerError\u001b[0m                               Traceback (most recent call last)",
      "\u001b[0;32m<ipython-input-14-556c1f9870d5>\u001b[0m in \u001b[0;36m<module>\u001b[0;34m()\u001b[0m\n\u001b[0;32m----> 1\u001b[0;31m \u001b[0mdb\u001b[0m \u001b[0;34m=\u001b[0m \u001b[0mconn\u001b[0m\u001b[0;34m.\u001b[0m\u001b[0mcreate_file\u001b[0m\u001b[0;34m(\u001b[0m\u001b[0;34m\"/home/rg/Desktop/test.h5\"\u001b[0m\u001b[0;34m,\u001b[0m \u001b[0moverwrite\u001b[0m\u001b[0;34m=\u001b[0m\u001b[0;32mTrue\u001b[0m\u001b[0;34m)\u001b[0m\u001b[0;34m\u001b[0m\u001b[0m\n\u001b[0m",
      "\u001b[0;32m~/workspace/hurray-py/hurraypy/client.py\u001b[0m in \u001b[0;36mcreate_file\u001b[0;34m(self, name, overwrite)\u001b[0m\n\u001b[1;32m    124\u001b[0m             \u001b[0mCMD_KW_OVERWRITE\u001b[0m\u001b[0;34m:\u001b[0m \u001b[0moverwrite\u001b[0m\u001b[0;34m,\u001b[0m\u001b[0;34m\u001b[0m\u001b[0m\n\u001b[1;32m    125\u001b[0m         }\n\u001b[0;32m--> 126\u001b[0;31m         \u001b[0mresult\u001b[0m \u001b[0;34m=\u001b[0m \u001b[0mself\u001b[0m\u001b[0;34m.\u001b[0m\u001b[0msend_rcv\u001b[0m\u001b[0;34m(\u001b[0m\u001b[0mCMD_CREATE_DATABASE\u001b[0m\u001b[0;34m,\u001b[0m \u001b[0mh5file\u001b[0m\u001b[0;34m=\u001b[0m\u001b[0mname\u001b[0m\u001b[0;34m,\u001b[0m \u001b[0margs\u001b[0m\u001b[0;34m=\u001b[0m\u001b[0margs\u001b[0m\u001b[0;34m)\u001b[0m\u001b[0;34m\u001b[0m\u001b[0m\n\u001b[0m\u001b[1;32m    127\u001b[0m         \u001b[0;31m# TODO examine result!\u001b[0m\u001b[0;34m\u001b[0m\u001b[0;34m\u001b[0m\u001b[0m\n\u001b[1;32m    128\u001b[0m \u001b[0;34m\u001b[0m\u001b[0m\n",
      "\u001b[0;32m~/workspace/hurray-py/hurraypy/client.py\u001b[0m in \u001b[0;36msend_rcv\u001b[0;34m(self, cmd, h5file, args, data)\u001b[0m\n\u001b[1;32m    232\u001b[0m                 \u001b[0;32mraise\u001b[0m \u001b[0mNodeError\u001b[0m\u001b[0;34m(\u001b[0m\u001b[0mstatus\u001b[0m\u001b[0;34m)\u001b[0m\u001b[0;34m\u001b[0m\u001b[0m\n\u001b[1;32m    233\u001b[0m             \u001b[0;32mif\u001b[0m \u001b[0;36m500\u001b[0m \u001b[0;34m<=\u001b[0m \u001b[0mstatus\u001b[0m \u001b[0;34m<\u001b[0m \u001b[0;36m600\u001b[0m\u001b[0;34m:\u001b[0m\u001b[0;34m\u001b[0m\u001b[0m\n\u001b[0;32m--> 234\u001b[0;31m                 \u001b[0;32mraise\u001b[0m \u001b[0mServerError\u001b[0m\u001b[0;34m(\u001b[0m\u001b[0mstatus\u001b[0m\u001b[0;34m)\u001b[0m\u001b[0;34m\u001b[0m\u001b[0m\n\u001b[0m\u001b[1;32m    235\u001b[0m \u001b[0;34m\u001b[0m\u001b[0m\n\u001b[1;32m    236\u001b[0m         \u001b[0;32mreturn\u001b[0m \u001b[0mresult\u001b[0m\u001b[0;34m\u001b[0m\u001b[0m\n",
      "\u001b[0;31mServerError\u001b[0m: (500, 'internal server error')"
     ]
    }
   ],
   "source": [
    "db = conn.create_file(\"/home/rg/Desktop/test.h5\", overwrite=True)"
   ]
  },
  {
   "cell_type": "code",
   "execution_count": 15,
   "metadata": {},
   "outputs": [
    {
     "data": {
      "text/plain": [
       "hurraypy.client.Connection.__init__.<locals>._File"
      ]
     },
     "execution_count": 15,
     "metadata": {},
     "output_type": "execute_result"
    }
   ],
   "source": [
    "conn.File"
   ]
  },
  {
   "cell_type": "code",
   "execution_count": 16,
   "metadata": {},
   "outputs": [],
   "source": [
    "db = conn.File(\"test.h5\")"
   ]
  },
  {
   "cell_type": "code",
   "execution_count": 17,
   "metadata": {},
   "outputs": [
    {
     "data": {
      "text/html": [
       "\n",
       "<svg style=\"display: inline-block !important;margin-right: 2px !important;vertical-align: bottom;\" xmlns=\"http://www.w3.org/2000/svg\" width=\"20\"\n",
       "  height=\"20\" viewBox=\"0 0 20 20\">\n",
       "    <path fill=\"#2385ae\" d=\"M2 3v14h16V5h-8L8 3z\"/>\n",
       "</svg>\n",
       "<strong>File test.h5</strong> (800b)"
      ],
      "text/plain": [
       "<File (db=test.h5, path=/)>"
      ]
     },
     "execution_count": 17,
     "metadata": {},
     "output_type": "execute_result"
    }
   ],
   "source": [
    "db"
   ]
  },
  {
   "cell_type": "code",
   "execution_count": 18,
   "metadata": {},
   "outputs": [
    {
     "name": "stdout",
     "output_type": "stream",
     "text": [
      "<File (db=test.h5, path=/)>\n"
     ]
    }
   ],
   "source": [
    "print(db)"
   ]
  },
  {
   "cell_type": "code",
   "execution_count": 19,
   "metadata": {},
   "outputs": [
    {
     "name": "stdout",
     "output_type": "stream",
     "text": [
      "<File (db=test.h5, path=/)>\n"
     ]
    }
   ],
   "source": [
    "with conn.File(\"test.h5\") as f:\n",
    "    print(f)"
   ]
  },
  {
   "cell_type": "code",
   "execution_count": 20,
   "metadata": {},
   "outputs": [],
   "source": [
    "db.attrs[\"bla\"] = 123"
   ]
  },
  {
   "cell_type": "code",
   "execution_count": 21,
   "metadata": {},
   "outputs": [
    {
     "data": {
      "text/plain": [
       "123"
      ]
     },
     "execution_count": 21,
     "metadata": {},
     "output_type": "execute_result"
    }
   ],
   "source": [
    "db.attrs[\"bla\"]"
   ]
  },
  {
   "cell_type": "code",
   "execution_count": 22,
   "metadata": {},
   "outputs": [
    {
     "data": {
      "text/html": [
       "\n",
       "<svg style=\"display: inline-block !important;margin-right: 2px !important;vertical-align: bottom;\" xmlns=\"http://www.w3.org/2000/svg\" width=\"20\"\n",
       "  height=\"20\" viewBox=\"0 0 20 20\">\n",
       "  <path\n",
       "     fill=\"#2385ae\"\n",
       "     d=\"M2 3v14h16V5h-8L8 3z\"\n",
       "     id=\"path3386\" />\n",
       "  <text\n",
       "     xml:space=\"preserve\"\n",
       "     style=\"font-style:normal;font-weight:normal;font-size:13.07740307px;line-height:125%;font-family:sans-serif;letter-spacing:0px;word-spacing:0px;fill:#000000;fill-opacity:1;stroke:none;stroke-width:1px;stroke-linecap:butt;stroke-linejoin:miter;stroke-opacity:1\"\n",
       "     x=\"9.8855734\"\n",
       "     y=\"18.02062\"\n",
       "     id=\"text4206\"\n",
       "     sodipodi:linespacing=\"125%\"\n",
       "     transform=\"scale(1.0461923,0.95584726)\"><tspan\n",
       "       sodipodi:role=\"line\"\n",
       "       id=\"tspan4208\"\n",
       "       x=\"9.8855734\"\n",
       "       y=\"18.02062\"\n",
       "       style=\"font-style:normal;font-variant:normal;font-weight:bold;font-stretch:normal;font-size:13.07740307px;line-height:125%;font-family:'DejaVu Sans Mono';-inkscape-font-specification:'DejaVu Sans Mono, Bold';text-align:start;writing-mode:lr-tb;text-anchor:start;fill:#ff0000;fill-opacity:1\">A</tspan></text>\n",
       "</svg>\n",
       "<strong>File test.h5</strong> (912b)"
      ],
      "text/plain": [
       "<File (db=test.h5, path=/)>"
      ]
     },
     "execution_count": 22,
     "metadata": {},
     "output_type": "execute_result"
    }
   ],
   "source": [
    "db"
   ]
  },
  {
   "cell_type": "code",
   "execution_count": 23,
   "metadata": {},
   "outputs": [
    {
     "data": {
      "text/html": [
       "\n",
       "<svg style=\"display: inline-block !important;margin-right: 2px !important;vertical-align: bottom;\" xmlns=\"http://www.w3.org/2000/svg\" width=\"20\"\n",
       "  height=\"20\" viewBox=\"0 0 20 20\">\n",
       "    <path fill=\"#2385ae\" d=\"M2 3v14h16V5h-8L8 3z\"/>\n",
       "</svg>\n",
       "<strong>Group /test</strong> (file=test.h5)"
      ],
      "text/plain": [
       "<Group (db=test.h5, path=/test)>"
      ]
     },
     "execution_count": 23,
     "metadata": {},
     "output_type": "execute_result"
    }
   ],
   "source": [
    "db.create_group(\"test\")"
   ]
  },
  {
   "cell_type": "code",
   "execution_count": 24,
   "metadata": {},
   "outputs": [
    {
     "data": {
      "text/plain": [
       "('test',)"
      ]
     },
     "execution_count": 24,
     "metadata": {},
     "output_type": "execute_result"
    }
   ],
   "source": [
    "db.keys()"
   ]
  },
  {
   "cell_type": "code",
   "execution_count": 25,
   "metadata": {},
   "outputs": [
    {
     "data": {
      "text/html": [
       "\n",
       "<svg style=\"display: inline-block !important;margin-right: 2px !important;vertical-align: bottom;\" xmlns=\"http://www.w3.org/2000/svg\" width=\"20\"\n",
       "  height=\"20\" viewBox=\"0 0 20 20\">\n",
       "    <path fill=\"#2385ae\" d=\"M2 3v14h16V5h-8L8 3z\"/>\n",
       "</svg>\n",
       "<strong>Group /test</strong> (file=/home/rg/hurray_data/test.h5)"
      ],
      "text/plain": [
       "<Group (db=/home/rg/hurray_data/test.h5, path=/test)>"
      ]
     },
     "execution_count": 25,
     "metadata": {},
     "output_type": "execute_result"
    }
   ],
   "source": [
    "db[\"test\"]"
   ]
  },
  {
   "cell_type": "code",
   "execution_count": 26,
   "metadata": {
    "collapsed": true
   },
   "outputs": [],
   "source": [
    "grp = db.create_group(\"mygrp/data\")"
   ]
  },
  {
   "cell_type": "code",
   "execution_count": 27,
   "metadata": {},
   "outputs": [
    {
     "data": {
      "text/plain": [
       "('mygrp', 'test')"
      ]
     },
     "execution_count": 27,
     "metadata": {},
     "output_type": "execute_result"
    }
   ],
   "source": [
    "db.keys()"
   ]
  },
  {
   "cell_type": "code",
   "execution_count": 28,
   "metadata": {},
   "outputs": [
    {
     "data": {
      "text/html": [
       "\n",
       "<svg style=\"display: inline-block !important;margin-right: 2px !important;vertical-align: bottom;\" xmlns=\"http://www.w3.org/2000/svg\" width=\"20\"\n",
       "  height=\"20\" viewBox=\"0 0 20 20\">\n",
       "    <path fill=\"#2385ae\" d=\"M2 3v14h16V5h-8L8 3z\"/>\n",
       "</svg>\n",
       "<strong>Group /mygrp/data</strong> (file=/home/rg/hurray_data/test.h5)"
      ],
      "text/plain": [
       "<Group (db=/home/rg/hurray_data/test.h5, path=/mygrp/data)>"
      ]
     },
     "execution_count": 28,
     "metadata": {},
     "output_type": "execute_result"
    }
   ],
   "source": [
    "db[\"mygrp/data\"]"
   ]
  },
  {
   "cell_type": "code",
   "execution_count": 29,
   "metadata": {},
   "outputs": [
    {
     "data": {
      "text/plain": [
       "'/mygrp/data'"
      ]
     },
     "execution_count": 29,
     "metadata": {},
     "output_type": "execute_result"
    }
   ],
   "source": [
    "grp.path"
   ]
  },
  {
   "cell_type": "code",
   "execution_count": 30,
   "metadata": {},
   "outputs": [
    {
     "data": {
      "text/html": [
       "\n",
       "<svg style=\"display: inline-block !important;margin-right: 2px !important;vertical-align: bottom;\" xmlns=\"http://www.w3.org/2000/svg\" width=\"20\"\n",
       "  height=\"20\" viewBox=\"0 0 20 20\">\n",
       "    <path fill=\"#2385ae\" d=\"M2 3v14h16V5h-8L8 3z\"/>\n",
       "</svg>\n",
       "<strong>Group /mygrp</strong> (file=/home/rg/hurray_data/test.h5)"
      ],
      "text/plain": [
       "<Group (db=/home/rg/hurray_data/test.h5, path=/mygrp)>"
      ]
     },
     "execution_count": 30,
     "metadata": {},
     "output_type": "execute_result"
    }
   ],
   "source": [
    "db[\"/mygrp\"]"
   ]
  },
  {
   "cell_type": "code",
   "execution_count": 31,
   "metadata": {
    "collapsed": true
   },
   "outputs": [],
   "source": [
    "db[\"/mygrp\"].attrs[\"foo\"] = \"bar\""
   ]
  },
  {
   "cell_type": "code",
   "execution_count": 32,
   "metadata": {},
   "outputs": [
    {
     "data": {
      "text/html": [
       "\n",
       "<svg style=\"display: inline-block !important;margin-right: 2px !important;vertical-align: bottom;\" xmlns=\"http://www.w3.org/2000/svg\" width=\"20\"\n",
       "  height=\"20\" viewBox=\"0 0 20 20\">\n",
       "  <path\n",
       "     fill=\"#2385ae\"\n",
       "     d=\"M2 3v14h16V5h-8L8 3z\"\n",
       "     id=\"path3386\" />\n",
       "  <text\n",
       "     xml:space=\"preserve\"\n",
       "     style=\"font-style:normal;font-weight:normal;font-size:13.07740307px;line-height:125%;font-family:sans-serif;letter-spacing:0px;word-spacing:0px;fill:#000000;fill-opacity:1;stroke:none;stroke-width:1px;stroke-linecap:butt;stroke-linejoin:miter;stroke-opacity:1\"\n",
       "     x=\"9.8855734\"\n",
       "     y=\"18.02062\"\n",
       "     id=\"text4206\"\n",
       "     sodipodi:linespacing=\"125%\"\n",
       "     transform=\"scale(1.0461923,0.95584726)\"><tspan\n",
       "       sodipodi:role=\"line\"\n",
       "       id=\"tspan4208\"\n",
       "       x=\"9.8855734\"\n",
       "       y=\"18.02062\"\n",
       "       style=\"font-style:normal;font-variant:normal;font-weight:bold;font-stretch:normal;font-size:13.07740307px;line-height:125%;font-family:'DejaVu Sans Mono';-inkscape-font-specification:'DejaVu Sans Mono, Bold';text-align:start;writing-mode:lr-tb;text-anchor:start;fill:#ff0000;fill-opacity:1\">A</tspan></text>\n",
       "</svg>\n",
       "<strong>Group /mygrp</strong> (file=/home/rg/hurray_data/test.h5)"
      ],
      "text/plain": [
       "<Group (db=/home/rg/hurray_data/test.h5, path=/mygrp)>"
      ]
     },
     "execution_count": 32,
     "metadata": {},
     "output_type": "execute_result"
    }
   ],
   "source": [
    "db[\"/mygrp\"]"
   ]
  },
  {
   "cell_type": "code",
   "execution_count": 33,
   "metadata": {},
   "outputs": [
    {
     "data": {
      "text/plain": [
       "('data',)"
      ]
     },
     "execution_count": 33,
     "metadata": {},
     "output_type": "execute_result"
    }
   ],
   "source": [
    "db[\"/mygrp\"].keys()"
   ]
  },
  {
   "cell_type": "code",
   "execution_count": 34,
   "metadata": {
    "collapsed": true
   },
   "outputs": [],
   "source": [
    "data = np.random.random((600, 400))"
   ]
  },
  {
   "cell_type": "code",
   "execution_count": 35,
   "metadata": {},
   "outputs": [
    {
     "data": {
      "text/html": [
       "<img style=\"display: inline-block !important;margin-right: 2px !important;vertical-align: bottom;\" src=\"data:image/png;base64,iVBORw0KGgoAAAANSUhEUgAAABMAAAATCAIAAAD9MqGbAAAABmJLR0QA/wD/AP+gvaeTAAAACXBIWXMAAAsTAAALEwEAmpwYAAAAB3RJTUUH4QIDDjIxz4nnSAAAAIVJREFUOMvFU0sWgCAITF9nnTvBZacFiQa9Z9mi2TiC8nGwkNyWULdV7Lao6vQogMueJEkRERE2OM/EUaxPVQXwKnO9dQAIJFfbc7p7mvkMMbYhDbm3bFxXpd+0IuPTT/UMHWaSNd9DpDGzSeV2N36dvs+qBG1WVHkygJdqX122assPP/sA4JrfRKa1vDcAAAAASUVORK5CYII=\"/><strong>Dataset (600, 400) float64 </strong> (file=/home/rg/hurray_data/test.h5, path=/mygrp/data/myarray)"
      ],
      "text/plain": [
       "<Dataset (600, 400) float64 (db=/home/rg/hurray_data/test.h5, path=/mygrp/data/myarray)>"
      ]
     },
     "execution_count": 35,
     "metadata": {},
     "output_type": "execute_result"
    }
   ],
   "source": [
    "grp.create_dataset(\"myarray\", data=data)"
   ]
  },
  {
   "cell_type": "code",
   "execution_count": 36,
   "metadata": {
    "collapsed": true
   },
   "outputs": [],
   "source": [
    "dst = db[\"/mygrp/data/myarray\"]"
   ]
  },
  {
   "cell_type": "code",
   "execution_count": 37,
   "metadata": {},
   "outputs": [
    {
     "data": {
      "text/html": [
       "<img style=\"display: inline-block !important;margin-right: 2px !important;vertical-align: bottom;\" src=\"data:image/png;base64,iVBORw0KGgoAAAANSUhEUgAAABMAAAATCAIAAAD9MqGbAAAABmJLR0QA/wD/AP+gvaeTAAAACXBIWXMAAAsTAAALEwEAmpwYAAAAB3RJTUUH4QIDDjIxz4nnSAAAAIVJREFUOMvFU0sWgCAITF9nnTvBZacFiQa9Z9mi2TiC8nGwkNyWULdV7Lao6vQogMueJEkRERE2OM/EUaxPVQXwKnO9dQAIJFfbc7p7mvkMMbYhDbm3bFxXpd+0IuPTT/UMHWaSNd9DpDGzSeV2N36dvs+qBG1WVHkygJdqX122assPP/sA4JrfRKa1vDcAAAAASUVORK5CYII=\"/><strong>Dataset (600, 400) float64 </strong> (file=/home/rg/hurray_data/test.h5, path=/mygrp/data/myarray)"
      ],
      "text/plain": [
       "<Dataset (600, 400) float64 (db=/home/rg/hurray_data/test.h5, path=/mygrp/data/myarray)>"
      ]
     },
     "execution_count": 37,
     "metadata": {},
     "output_type": "execute_result"
    }
   ],
   "source": [
    "dst"
   ]
  },
  {
   "cell_type": "code",
   "execution_count": 38,
   "metadata": {
    "collapsed": true
   },
   "outputs": [],
   "source": [
    "dst.attrs[\"unit\"] = \"celsius\""
   ]
  },
  {
   "cell_type": "code",
   "execution_count": 39,
   "metadata": {},
   "outputs": [
    {
     "data": {
      "text/html": [
       "<img style=\"display: inline-block !important;margin-right: 2px !important;vertical-align: bottom;\" src=\"data:image/png;base64,iVBORw0KGgoAAAANSUhEUgAAABMAAAATCAIAAAD9MqGbAAAABmJLR0QA/wD/AP+gvaeTAAAACXBIWXMAAAsTAAALEwEAmpwYAAAAB3RJTUUH4QIDEiMuBGSTuQAAAKFJREFUOMvFU9EOxCAIw+W+lX0T/dnugelQzpiZS64xERUsWCwkZQuH7OLjE4Clq6p2a5IkzczMWNHsbDQUrxOAqr5iPr4eqOpg5Gwfzna8ZL6viGVYRa4tb+6r8kR6kuPTL/UcKsyGnidmkZnZpRIRKcWDhWx3/bpOAL4E4ITiH8Pt2H2DNp0AInFMVRnbIJLUp+p6aBZ8+zWfkHn5w8++ABRp3VoL9MWtAAAAAElFTkSuQmCC\"/><strong>Dataset (600, 400) float64 </strong> (file=/home/rg/hurray_data/test.h5, path=/mygrp/data/myarray)"
      ],
      "text/plain": [
       "<Dataset (600, 400) float64 (db=/home/rg/hurray_data/test.h5, path=/mygrp/data/myarray)>"
      ]
     },
     "execution_count": 39,
     "metadata": {},
     "output_type": "execute_result"
    }
   ],
   "source": [
    "dst"
   ]
  },
  {
   "cell_type": "code",
   "execution_count": 40,
   "metadata": {},
   "outputs": [
    {
     "data": {
      "text/plain": [
       "(600, 400)"
      ]
     },
     "execution_count": 40,
     "metadata": {},
     "output_type": "execute_result"
    }
   ],
   "source": [
    "dst.shape"
   ]
  },
  {
   "cell_type": "code",
   "execution_count": 41,
   "metadata": {},
   "outputs": [
    {
     "data": {
      "text/plain": [
       "'float64'"
      ]
     },
     "execution_count": 41,
     "metadata": {},
     "output_type": "execute_result"
    }
   ],
   "source": [
    "dst.dtype"
   ]
  },
  {
   "cell_type": "code",
   "execution_count": 42,
   "metadata": {},
   "outputs": [
    {
     "data": {
      "text/plain": [
       "array([[ 0.27587652,  0.97451559,  0.02597827, ...,  0.49549817,\n",
       "         0.10602769,  0.54957183],\n",
       "       [ 0.07280129,  0.57236653,  0.79046109, ...,  0.99726858,\n",
       "         0.29241643,  0.81067177],\n",
       "       [ 0.35915275,  0.3395208 ,  0.00605964, ...,  0.96693349,\n",
       "         0.40918281,  0.23267074],\n",
       "       ..., \n",
       "       [ 0.05391319,  0.70568114,  0.76275027, ...,  0.32788271,\n",
       "         0.16523347,  0.66884406],\n",
       "       [ 0.83034651,  0.54541909,  0.10944849, ...,  0.64470173,\n",
       "         0.21839751,  0.54438394],\n",
       "       [ 0.08265859,  0.59959771,  0.37144236, ...,  0.74178837,\n",
       "         0.16370611,  0.24212855]])"
      ]
     },
     "execution_count": 42,
     "metadata": {},
     "output_type": "execute_result"
    }
   ],
   "source": [
    "dst[:]"
   ]
  },
  {
   "cell_type": "code",
   "execution_count": 43,
   "metadata": {
    "collapsed": true
   },
   "outputs": [],
   "source": [
    "dst[0, 0:3] = 999"
   ]
  },
  {
   "cell_type": "code",
   "execution_count": 44,
   "metadata": {},
   "outputs": [
    {
     "data": {
      "text/plain": [
       "array([  9.99000000e+02,   9.99000000e+02,   9.99000000e+02,\n",
       "         9.84715934e-02])"
      ]
     },
     "execution_count": 44,
     "metadata": {},
     "output_type": "execute_result"
    }
   ],
   "source": [
    "dst[0, 0:4]"
   ]
  },
  {
   "cell_type": "code",
   "execution_count": 45,
   "metadata": {},
   "outputs": [
    {
     "data": {
      "text/html": [
       "\n",
       "<svg style=\"display: inline-block !important;margin-right: 2px !important;vertical-align: bottom;\" xmlns=\"http://www.w3.org/2000/svg\" width=\"20\"\n",
       "  height=\"20\" viewBox=\"0 0 20 20\">\n",
       "  <path\n",
       "     fill=\"#2385ae\"\n",
       "     d=\"M2 3v14h16V5h-8L8 3z\"\n",
       "     id=\"path3386\" />\n",
       "  <text\n",
       "     xml:space=\"preserve\"\n",
       "     style=\"font-style:normal;font-weight:normal;font-size:13.07740307px;line-height:125%;font-family:sans-serif;letter-spacing:0px;word-spacing:0px;fill:#000000;fill-opacity:1;stroke:none;stroke-width:1px;stroke-linecap:butt;stroke-linejoin:miter;stroke-opacity:1\"\n",
       "     x=\"9.8855734\"\n",
       "     y=\"18.02062\"\n",
       "     id=\"text4206\"\n",
       "     sodipodi:linespacing=\"125%\"\n",
       "     transform=\"scale(1.0461923,0.95584726)\"><tspan\n",
       "       sodipodi:role=\"line\"\n",
       "       id=\"tspan4208\"\n",
       "       x=\"9.8855734\"\n",
       "       y=\"18.02062\"\n",
       "       style=\"font-style:normal;font-variant:normal;font-weight:bold;font-stretch:normal;font-size:13.07740307px;line-height:125%;font-family:'DejaVu Sans Mono';-inkscape-font-specification:'DejaVu Sans Mono, Bold';text-align:start;writing-mode:lr-tb;text-anchor:start;fill:#ff0000;fill-opacity:1\">A</tspan></text>\n",
       "</svg>\n",
       "<strong>File test.h5</strong> (1.9M)"
      ],
      "text/plain": [
       "<File (db=test.h5, path=/)>"
      ]
     },
     "execution_count": 45,
     "metadata": {},
     "output_type": "execute_result"
    }
   ],
   "source": [
    "db"
   ]
  },
  {
   "cell_type": "markdown",
   "metadata": {},
   "source": [
    "## Exploring file structures\n",
    "\n",
    "Every group has a ``tree()`` method that displays sub groups and datasets as a tree."
   ]
  },
  {
   "cell_type": "code",
   "execution_count": 46,
   "metadata": {},
   "outputs": [
    {
     "data": {
      "text/html": [
       "\n",
       "<svg style=\"display: inline-block !important;margin-right: 2px !important;vertical-align: bottom;\" xmlns=\"http://www.w3.org/2000/svg\" width=\"20\"\n",
       "  height=\"20\" viewBox=\"0 0 20 20\">\n",
       "    <path fill=\"#2385ae\" d=\"M2 3v14h16V5h-8L8 3z\"/>\n",
       "</svg>\n",
       "<strong>Group /test/test2/test3</strong> (file=test.h5)"
      ],
      "text/plain": [
       "<Group (db=test.h5, path=/test/test2/test3)>"
      ]
     },
     "execution_count": 46,
     "metadata": {},
     "output_type": "execute_result"
    }
   ],
   "source": [
    "db.require_group(\"/mygrp/data/somegroup\")\n",
    "db.require_group(\"/mygrp/datagrp2\")\n",
    "db.require_group(\"/mygrp/datagrp3\")\n",
    "db.require_group(\"/test/test2/test3\")"
   ]
  },
  {
   "cell_type": "code",
   "execution_count": 47,
   "metadata": {},
   "outputs": [
    {
     "data": {
      "text/html": [
       "<style type=\"text/css\">\n",
       ".hurraytree, .hurraytree ul{\n",
       "  font: normal normal 14px/20px Helvetica, Arial, sans-serif;\n",
       "  list-style-type: none;\n",
       "  margin-left: 0 0 0 2px !important;\n",
       "  padding: 0;\n",
       "  position: relative;\n",
       "  overflow:hidden;\n",
       "}\n",
       "\n",
       ".hurraytree li{\n",
       "  margin: 0;\n",
       "  padding: 0 12px;\n",
       "  position: relative;\n",
       "}\n",
       "\n",
       ".hurraytree li::before, .hurraytree li::after{\n",
       "  content: '';\n",
       "  position: absolute;\n",
       "  left: 0;\n",
       "}\n",
       "\n",
       "/* horizontal line on inner list items */\n",
       ".hurraytree li::before{\n",
       "  border-top: 1px solid #999999;\n",
       "  top: 10px;\n",
       "  width: 10px;\n",
       "  height: 0;\n",
       "}\n",
       "\n",
       "/* vertical line on list items */\n",
       ".hurraytree li:after{\n",
       "  border-left: 1px solid #999999;\n",
       "  height: 100%;\n",
       "  width: 0px;\n",
       "  top: -10px !important;\n",
       "}\n",
       "\n",
       "/* lower line on list items from the first level because they don't have\n",
       "   parents */\n",
       ".hurraytree > li::after{\n",
       "  top: 10px;\n",
       "}\n",
       "\n",
       "/* hide line from the last of the first level list items */\n",
       ".hurraytree > li:last-child::after{\n",
       "  display: none;\n",
       "}\n",
       "</style><ul class=\"hurraytree\">\n",
       "<li>\n",
       "<svg style=\"display: inline-block !important;margin-right: 2px !important;vertical-align: bottom;\" xmlns=\"http://www.w3.org/2000/svg\" width=\"20\"\n",
       "  height=\"20\" viewBox=\"0 0 20 20\">\n",
       "  <path\n",
       "     fill=\"#2385ae\"\n",
       "     d=\"M2 3v14h16V5h-8L8 3z\"\n",
       "     id=\"path3386\" />\n",
       "  <text\n",
       "     xml:space=\"preserve\"\n",
       "     style=\"font-style:normal;font-weight:normal;font-size:13.07740307px;line-height:125%;font-family:sans-serif;letter-spacing:0px;word-spacing:0px;fill:#000000;fill-opacity:1;stroke:none;stroke-width:1px;stroke-linecap:butt;stroke-linejoin:miter;stroke-opacity:1\"\n",
       "     x=\"9.8855734\"\n",
       "     y=\"18.02062\"\n",
       "     id=\"text4206\"\n",
       "     sodipodi:linespacing=\"125%\"\n",
       "     transform=\"scale(1.0461923,0.95584726)\"><tspan\n",
       "       sodipodi:role=\"line\"\n",
       "       id=\"tspan4208\"\n",
       "       x=\"9.8855734\"\n",
       "       y=\"18.02062\"\n",
       "       style=\"font-style:normal;font-variant:normal;font-weight:bold;font-stretch:normal;font-size:13.07740307px;line-height:125%;font-family:'DejaVu Sans Mono';-inkscape-font-specification:'DejaVu Sans Mono, Bold';text-align:start;writing-mode:lr-tb;text-anchor:start;fill:#ff0000;fill-opacity:1\">A</tspan></text>\n",
       "</svg>\n",
       "/<ul><li>\n",
       "<svg style=\"display: inline-block !important;margin-right: 2px !important;vertical-align: bottom;\" xmlns=\"http://www.w3.org/2000/svg\" width=\"20\"\n",
       "  height=\"20\" viewBox=\"0 0 20 20\">\n",
       "  <path\n",
       "     fill=\"#2385ae\"\n",
       "     d=\"M2 3v14h16V5h-8L8 3z\"\n",
       "     id=\"path3386\" />\n",
       "  <text\n",
       "     xml:space=\"preserve\"\n",
       "     style=\"font-style:normal;font-weight:normal;font-size:13.07740307px;line-height:125%;font-family:sans-serif;letter-spacing:0px;word-spacing:0px;fill:#000000;fill-opacity:1;stroke:none;stroke-width:1px;stroke-linecap:butt;stroke-linejoin:miter;stroke-opacity:1\"\n",
       "     x=\"9.8855734\"\n",
       "     y=\"18.02062\"\n",
       "     id=\"text4206\"\n",
       "     sodipodi:linespacing=\"125%\"\n",
       "     transform=\"scale(1.0461923,0.95584726)\"><tspan\n",
       "       sodipodi:role=\"line\"\n",
       "       id=\"tspan4208\"\n",
       "       x=\"9.8855734\"\n",
       "       y=\"18.02062\"\n",
       "       style=\"font-style:normal;font-variant:normal;font-weight:bold;font-stretch:normal;font-size:13.07740307px;line-height:125%;font-family:'DejaVu Sans Mono';-inkscape-font-specification:'DejaVu Sans Mono, Bold';text-align:start;writing-mode:lr-tb;text-anchor:start;fill:#ff0000;fill-opacity:1\">A</tspan></text>\n",
       "</svg>\n",
       "mygrp<ul><li>\n",
       "<svg style=\"display: inline-block !important;margin-right: 2px !important;vertical-align: bottom;\" xmlns=\"http://www.w3.org/2000/svg\" width=\"20\"\n",
       "  height=\"20\" viewBox=\"0 0 20 20\">\n",
       "    <path fill=\"#2385ae\" d=\"M2 3v14h16V5h-8L8 3z\"/>\n",
       "</svg>\n",
       "data<ul><li><img style=\"display: inline-block !important;margin-right: 2px !important;vertical-align: bottom;\" src=\"data:image/png;base64,iVBORw0KGgoAAAANSUhEUgAAABMAAAATCAIAAAD9MqGbAAAABmJLR0QA/wD/AP+gvaeTAAAACXBIWXMAAAsTAAALEwEAmpwYAAAAB3RJTUUH4QIDEiMuBGSTuQAAAKFJREFUOMvFU9EOxCAIw+W+lX0T/dnugelQzpiZS64xERUsWCwkZQuH7OLjE4Clq6p2a5IkzczMWNHsbDQUrxOAqr5iPr4eqOpg5Gwfzna8ZL6viGVYRa4tb+6r8kR6kuPTL/UcKsyGnidmkZnZpRIRKcWDhWx3/bpOAL4E4ITiH8Pt2H2DNp0AInFMVRnbIJLUp+p6aBZ8+zWfkHn5w8++ABRp3VoL9MWtAAAAAElFTkSuQmCC\"/><strong>Dataset (600, 400) float64 </strong> (file=/home/rg/hurray_data/test.h5, path=/mygrp/data/myarray)</li><li>\n",
       "<svg style=\"display: inline-block !important;margin-right: 2px !important;vertical-align: bottom;\" xmlns=\"http://www.w3.org/2000/svg\" width=\"20\"\n",
       "  height=\"20\" viewBox=\"0 0 20 20\">\n",
       "    <path fill=\"#2385ae\" d=\"M2 3v14h16V5h-8L8 3z\"/>\n",
       "</svg>\n",
       "somegroup</li></ul></li><li>\n",
       "<svg style=\"display: inline-block !important;margin-right: 2px !important;vertical-align: bottom;\" xmlns=\"http://www.w3.org/2000/svg\" width=\"20\"\n",
       "  height=\"20\" viewBox=\"0 0 20 20\">\n",
       "    <path fill=\"#2385ae\" d=\"M2 3v14h16V5h-8L8 3z\"/>\n",
       "</svg>\n",
       "datagrp2</li><li>\n",
       "<svg style=\"display: inline-block !important;margin-right: 2px !important;vertical-align: bottom;\" xmlns=\"http://www.w3.org/2000/svg\" width=\"20\"\n",
       "  height=\"20\" viewBox=\"0 0 20 20\">\n",
       "    <path fill=\"#2385ae\" d=\"M2 3v14h16V5h-8L8 3z\"/>\n",
       "</svg>\n",
       "datagrp3</li></ul></li><li>\n",
       "<svg style=\"display: inline-block !important;margin-right: 2px !important;vertical-align: bottom;\" xmlns=\"http://www.w3.org/2000/svg\" width=\"20\"\n",
       "  height=\"20\" viewBox=\"0 0 20 20\">\n",
       "    <path fill=\"#2385ae\" d=\"M2 3v14h16V5h-8L8 3z\"/>\n",
       "</svg>\n",
       "test<ul><li>\n",
       "<svg style=\"display: inline-block !important;margin-right: 2px !important;vertical-align: bottom;\" xmlns=\"http://www.w3.org/2000/svg\" width=\"20\"\n",
       "  height=\"20\" viewBox=\"0 0 20 20\">\n",
       "    <path fill=\"#2385ae\" d=\"M2 3v14h16V5h-8L8 3z\"/>\n",
       "</svg>\n",
       "test2<ul><li>\n",
       "<svg style=\"display: inline-block !important;margin-right: 2px !important;vertical-align: bottom;\" xmlns=\"http://www.w3.org/2000/svg\" width=\"20\"\n",
       "  height=\"20\" viewBox=\"0 0 20 20\">\n",
       "    <path fill=\"#2385ae\" d=\"M2 3v14h16V5h-8L8 3z\"/>\n",
       "</svg>\n",
       "test3</li></ul></li></ul></li></ul></li></ul>"
      ],
      "text/plain": [
       "── /\n",
       "    ├─ mygrp\n",
       "    │   ├─ data\n",
       "    │   │   ├─ <Dataset (600, 400) float64 (db=/home/rg/hurray_data/test.h5, path=/mygrp/data/myarray)>\n",
       "    │   │   └─ somegroup\n",
       "    │   ├─ datagrp2\n",
       "    │   └─ datagrp3\n",
       "    └─ test\n",
       "        └─ test2\n",
       "            └─ test3"
      ]
     },
     "execution_count": 47,
     "metadata": {},
     "output_type": "execute_result"
    }
   ],
   "source": [
    "db.tree()"
   ]
  },
  {
   "cell_type": "code",
   "execution_count": 48,
   "metadata": {},
   "outputs": [
    {
     "data": {
      "text/html": [
       "<style type=\"text/css\">\n",
       ".hurraytree, .hurraytree ul{\n",
       "  font: normal normal 14px/20px Helvetica, Arial, sans-serif;\n",
       "  list-style-type: none;\n",
       "  margin-left: 0 0 0 2px !important;\n",
       "  padding: 0;\n",
       "  position: relative;\n",
       "  overflow:hidden;\n",
       "}\n",
       "\n",
       ".hurraytree li{\n",
       "  margin: 0;\n",
       "  padding: 0 12px;\n",
       "  position: relative;\n",
       "}\n",
       "\n",
       ".hurraytree li::before, .hurraytree li::after{\n",
       "  content: '';\n",
       "  position: absolute;\n",
       "  left: 0;\n",
       "}\n",
       "\n",
       "/* horizontal line on inner list items */\n",
       ".hurraytree li::before{\n",
       "  border-top: 1px solid #999999;\n",
       "  top: 10px;\n",
       "  width: 10px;\n",
       "  height: 0;\n",
       "}\n",
       "\n",
       "/* vertical line on list items */\n",
       ".hurraytree li:after{\n",
       "  border-left: 1px solid #999999;\n",
       "  height: 100%;\n",
       "  width: 0px;\n",
       "  top: -10px !important;\n",
       "}\n",
       "\n",
       "/* lower line on list items from the first level because they don't have\n",
       "   parents */\n",
       ".hurraytree > li::after{\n",
       "  top: 10px;\n",
       "}\n",
       "\n",
       "/* hide line from the last of the first level list items */\n",
       ".hurraytree > li:last-child::after{\n",
       "  display: none;\n",
       "}\n",
       "</style><ul class=\"hurraytree\">\n",
       "<li>\n",
       "<svg style=\"display: inline-block !important;margin-right: 2px !important;vertical-align: bottom;\" xmlns=\"http://www.w3.org/2000/svg\" width=\"20\"\n",
       "  height=\"20\" viewBox=\"0 0 20 20\">\n",
       "    <path fill=\"#2385ae\" d=\"M2 3v14h16V5h-8L8 3z\"/>\n",
       "</svg>\n",
       "data<ul><li><img style=\"display: inline-block !important;margin-right: 2px !important;vertical-align: bottom;\" src=\"data:image/png;base64,iVBORw0KGgoAAAANSUhEUgAAABMAAAATCAIAAAD9MqGbAAAABmJLR0QA/wD/AP+gvaeTAAAACXBIWXMAAAsTAAALEwEAmpwYAAAAB3RJTUUH4QIDEiMuBGSTuQAAAKFJREFUOMvFU9EOxCAIw+W+lX0T/dnugelQzpiZS64xERUsWCwkZQuH7OLjE4Clq6p2a5IkzczMWNHsbDQUrxOAqr5iPr4eqOpg5Gwfzna8ZL6viGVYRa4tb+6r8kR6kuPTL/UcKsyGnidmkZnZpRIRKcWDhWx3/bpOAL4E4ITiH8Pt2H2DNp0AInFMVRnbIJLUp+p6aBZ8+zWfkHn5w8++ABRp3VoL9MWtAAAAAElFTkSuQmCC\"/><strong>Dataset (600, 400) float64 </strong> (file=/home/rg/hurray_data/test.h5, path=/mygrp/data/myarray)</li><li>\n",
       "<svg style=\"display: inline-block !important;margin-right: 2px !important;vertical-align: bottom;\" xmlns=\"http://www.w3.org/2000/svg\" width=\"20\"\n",
       "  height=\"20\" viewBox=\"0 0 20 20\">\n",
       "    <path fill=\"#2385ae\" d=\"M2 3v14h16V5h-8L8 3z\"/>\n",
       "</svg>\n",
       "somegroup</li></ul></li></ul>"
      ],
      "text/plain": [
       "── data\n",
       "    ├─ <Dataset (600, 400) float64 (db=/home/rg/hurray_data/test.h5, path=/mygrp/data/myarray)>\n",
       "    └─ somegroup"
      ]
     },
     "execution_count": 48,
     "metadata": {},
     "output_type": "execute_result"
    }
   ],
   "source": [
    "db[\"/mygrp/data\"].tree()"
   ]
  },
  {
   "cell_type": "markdown",
   "metadata": {},
   "source": [
    "If you're not in a notebook or ipython console, ``tree()`` will give you a text based representation:"
   ]
  },
  {
   "cell_type": "code",
   "execution_count": 49,
   "metadata": {},
   "outputs": [
    {
     "name": "stdout",
     "output_type": "stream",
     "text": [
      "── /\n",
      "    ├─ mygrp\n",
      "    │   ├─ data\n",
      "    │   │   ├─ <Dataset (600, 400) float64 (db=/home/rg/hurray_data/test.h5, path=/mygrp/data/myarray)>\n",
      "    │   │   └─ somegroup\n",
      "    │   ├─ datagrp2\n",
      "    │   └─ datagrp3\n",
      "    └─ test\n",
      "        └─ test2\n",
      "            └─ test3\n"
     ]
    }
   ],
   "source": [
    "print(db.tree())"
   ]
  },
  {
   "cell_type": "code",
   "execution_count": null,
   "metadata": {
    "collapsed": true
   },
   "outputs": [],
   "source": []
  }
 ],
 "metadata": {
  "kernelspec": {
   "display_name": "Python 3",
   "language": "python",
   "name": "python3"
  },
  "language_info": {
   "codemirror_mode": {
    "name": "ipython",
    "version": 3
   },
   "file_extension": ".py",
   "mimetype": "text/x-python",
   "name": "python",
   "nbconvert_exporter": "python",
   "pygments_lexer": "ipython3",
   "version": "3.5.2"
  }
 },
 "nbformat": 4,
 "nbformat_minor": 2
}
