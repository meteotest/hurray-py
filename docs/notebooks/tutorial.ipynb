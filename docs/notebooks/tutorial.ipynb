{
 "cells": [
  {
   "cell_type": "markdown",
   "metadata": {},
   "source": [
    "# Tutorial"
   ]
  },
  {
   "cell_type": "code",
   "execution_count": 1,
   "metadata": {
    "collapsed": true
   },
   "outputs": [],
   "source": [
    "import os\n",
    "import sys\n",
    "import logging\n",
    "module_path = os.path.abspath(os.path.join('..'))\n",
    "if module_path not in sys.path:\n",
    "    sys.path.append(module_path)"
   ]
  },
  {
   "cell_type": "code",
   "execution_count": 2,
   "metadata": {
    "collapsed": true
   },
   "outputs": [],
   "source": [
    "import hurraypy as hurray\n",
    "import numpy as np"
   ]
  },
  {
   "cell_type": "code",
   "execution_count": 3,
   "metadata": {},
   "outputs": [
    {
     "data": {
      "text/plain": [
       "'0.0.3'"
      ]
     },
     "execution_count": 3,
     "metadata": {},
     "output_type": "execute_result"
    }
   ],
   "source": [
    "hurray.__version__"
   ]
  },
  {
   "cell_type": "markdown",
   "metadata": {},
   "source": [
    "First, make sure all logging messages are sent to stdout:"
   ]
  },
  {
   "cell_type": "code",
   "execution_count": 4,
   "metadata": {
    "collapsed": true
   },
   "outputs": [],
   "source": [
    "logger = logging.getLogger('hurraypy')\n",
    "\n",
    "# console = logging.StreamHandler()\n",
    "# console.setLevel(logging.DEBUG)\n",
    "# console.setFormatter(logging.Formatter('%(levelname)s --- %(message)s'))\n",
    "# logger.addHandler(console)\n",
    "# logger.setLevel(logging.DEBUG)"
   ]
  },
  {
   "cell_type": "code",
   "execution_count": 5,
   "metadata": {},
   "outputs": [
    {
     "data": {
      "text/plain": [
       "[<logging.NullHandler at 0x7fc7045df780>]"
      ]
     },
     "execution_count": 5,
     "metadata": {},
     "output_type": "execute_result"
    }
   ],
   "source": [
    "logger.handlers"
   ]
  },
  {
   "cell_type": "code",
   "execution_count": 6,
   "metadata": {
    "collapsed": true
   },
   "outputs": [],
   "source": [
    "hurray.log.log.debug(\"bla\")\n",
    "hurray.log.log.info(\"bla\")"
   ]
  },
  {
   "cell_type": "markdown",
   "metadata": {
    "collapsed": true
   },
   "source": [
    "## Connecting to a hurray server\n",
    "\n",
    "Make sure you have a Hurray server running at `localhost:2222`:"
   ]
  },
  {
   "cell_type": "markdown",
   "metadata": {},
   "source": [
    "```\n",
    "$ hurray --host=localhost --port=2222 --logging=debug --debug=1\n",
    "[I 170619 11:16:50 __main__:180] Listening on localhost:2222\n",
    "[I 170619 11:16:50 process:132] Starting 8 processes\n",
    "```"
   ]
  },
  {
   "cell_type": "code",
   "execution_count": 7,
   "metadata": {},
   "outputs": [
    {
     "name": "stdout",
     "output_type": "stream",
     "text": [
      "<Connection (host=localhost, port=2222)>\n"
     ]
    }
   ],
   "source": [
    "conn = hurray.connect('localhost', '2222')\n",
    "print(conn)"
   ]
  },
  {
   "cell_type": "markdown",
   "metadata": {},
   "source": [
    "## Working with files"
   ]
  },
  {
   "cell_type": "markdown",
   "metadata": {},
   "source": [
    "Let's create a file `test.h5` (`overwrite=True` replaces the file if it already exists):"
   ]
  },
  {
   "cell_type": "code",
   "execution_count": 8,
   "metadata": {
    "collapsed": true
   },
   "outputs": [],
   "source": [
    "f = conn.create_file(\"test.h5\", overwrite=True)"
   ]
  },
  {
   "cell_type": "markdown",
   "metadata": {},
   "source": [
    "Note that Hurray objects (files, datasets, groups) display nicely in Jupyter notebooks."
   ]
  },
  {
   "cell_type": "code",
   "execution_count": 9,
   "metadata": {},
   "outputs": [
    {
     "data": {
      "text/html": [
       "\n",
       "<svg style=\"display: inline-block !important;margin-right: 2px !important;vertical-align: bottom;\" xmlns=\"http://www.w3.org/2000/svg\" width=\"20\"\n",
       "  height=\"20\" viewBox=\"0 0 20 20\">\n",
       "    <path fill=\"#2385ae\" d=\"M2 3v14h16V5h-8L8 3z\"/>\n",
       "</svg>\n",
       "<strong>File test.h5</strong> (800b)"
      ],
      "text/plain": [
       "<File (db=test.h5, path=/)>"
      ]
     },
     "execution_count": 9,
     "metadata": {},
     "output_type": "execute_result"
    }
   ],
   "source": [
    "f"
   ]
  },
  {
   "cell_type": "markdown",
   "metadata": {},
   "source": [
    "Working with existing files works like this:"
   ]
  },
  {
   "cell_type": "code",
   "execution_count": 10,
   "metadata": {},
   "outputs": [
    {
     "name": "stdout",
     "output_type": "stream",
     "text": [
      "<File (db=test.h5, path=/)>\n",
      "<File (db=test.h5, path=/)>\n"
     ]
    }
   ],
   "source": [
    "f = conn.File(\"test.h5\")\n",
    "print(f)\n",
    "\n",
    "with conn.File(\"test.h5\") as f:\n",
    "    print(f)"
   ]
  },
  {
   "cell_type": "markdown",
   "metadata": {},
   "source": [
    "Deleting and renaming files is also possible:"
   ]
  },
  {
   "cell_type": "code",
   "execution_count": 11,
   "metadata": {
    "collapsed": true
   },
   "outputs": [],
   "source": [
    "f.delete()"
   ]
  },
  {
   "cell_type": "markdown",
   "metadata": {},
   "source": [
    "Note that the object referenced by `f` becomes unusable after deleting the file.\n",
    "\n",
    "Let's create another file and renamed it to `test.h5`:"
   ]
  },
  {
   "cell_type": "code",
   "execution_count": 12,
   "metadata": {
    "collapsed": true
   },
   "outputs": [],
   "source": [
    "f2 = conn.create_file(\"test2.h5\")"
   ]
  },
  {
   "cell_type": "code",
   "execution_count": 13,
   "metadata": {},
   "outputs": [
    {
     "data": {
      "text/html": [
       "\n",
       "<svg style=\"display: inline-block !important;margin-right: 2px !important;vertical-align: bottom;\" xmlns=\"http://www.w3.org/2000/svg\" width=\"20\"\n",
       "  height=\"20\" viewBox=\"0 0 20 20\">\n",
       "    <path fill=\"#2385ae\" d=\"M2 3v14h16V5h-8L8 3z\"/>\n",
       "</svg>\n",
       "<strong>File test2.h5</strong> (800b)"
      ],
      "text/plain": [
       "<File (db=test2.h5, path=/)>"
      ]
     },
     "execution_count": 13,
     "metadata": {},
     "output_type": "execute_result"
    }
   ],
   "source": [
    "f2"
   ]
  },
  {
   "cell_type": "code",
   "execution_count": 14,
   "metadata": {
    "collapsed": true
   },
   "outputs": [],
   "source": [
    "f = f2.rename(\"test.h5\")"
   ]
  },
  {
   "cell_type": "code",
   "execution_count": 15,
   "metadata": {},
   "outputs": [
    {
     "data": {
      "text/html": [
       "\n",
       "<svg style=\"display: inline-block !important;margin-right: 2px !important;vertical-align: bottom;\" xmlns=\"http://www.w3.org/2000/svg\" width=\"20\"\n",
       "  height=\"20\" viewBox=\"0 0 20 20\">\n",
       "    <path fill=\"#2385ae\" d=\"M2 3v14h16V5h-8L8 3z\"/>\n",
       "</svg>\n",
       "<strong>File /home/rg/hurray_data/test.h5</strong> (800b)"
      ],
      "text/plain": [
       "<File (db=/home/rg/hurray_data/test.h5, path=/)>"
      ]
     },
     "execution_count": 15,
     "metadata": {},
     "output_type": "execute_result"
    }
   ],
   "source": [
    "f"
   ]
  },
  {
   "cell_type": "markdown",
   "metadata": {},
   "source": [
    "Note that ``rename()`` is not \"in place\". We must (re-)assign its return value."
   ]
  },
  {
   "cell_type": "markdown",
   "metadata": {},
   "source": [
    "## Working with datasets"
   ]
  },
  {
   "cell_type": "markdown",
   "metadata": {},
   "source": [
    "A file can contain two kinds of objects: *groups* and *datasets*. Essentially, groups work like Python dictionaries and datasets work like NumPy arrays.\n",
    "\n",
    "Every group and dataset has a **name**. First, let's try to create a dataset:"
   ]
  },
  {
   "cell_type": "code",
   "execution_count": 16,
   "metadata": {},
   "outputs": [
    {
     "ename": "ValueError",
     "evalue": "Either 'data' or 'shape' must be specified",
     "output_type": "error",
     "traceback": [
      "\u001b[0;31m---------------------------------------------------------------------------\u001b[0m",
      "\u001b[0;31mValueError\u001b[0m                                Traceback (most recent call last)",
      "\u001b[0;32m<ipython-input-16-0beb00b6358d>\u001b[0m in \u001b[0;36m<module>\u001b[0;34m()\u001b[0m\n\u001b[0;32m----> 1\u001b[0;31m \u001b[0mf\u001b[0m\u001b[0;34m.\u001b[0m\u001b[0mcreate_dataset\u001b[0m\u001b[0;34m(\u001b[0m\u001b[0;34m\"mydata\"\u001b[0m\u001b[0;34m)\u001b[0m\u001b[0;34m\u001b[0m\u001b[0m\n\u001b[0m",
      "\u001b[0;32m~/workspace/hurray-py/hurraypy/nodes.py\u001b[0m in \u001b[0;36mcreate_dataset\u001b[0;34m(self, name, shape, dtype, data, chunks, compression, compression_opts, fillvalue)\u001b[0m\n\u001b[1;32m    217\u001b[0m         \"\"\"\n\u001b[1;32m    218\u001b[0m         \u001b[0;32mif\u001b[0m \u001b[0mdata\u001b[0m \u001b[0;32mis\u001b[0m \u001b[0;32mNone\u001b[0m \u001b[0;32mand\u001b[0m \u001b[0mshape\u001b[0m \u001b[0;32mis\u001b[0m \u001b[0;32mNone\u001b[0m\u001b[0;34m:\u001b[0m\u001b[0;34m\u001b[0m\u001b[0m\n\u001b[0;32m--> 219\u001b[0;31m             \u001b[0;32mraise\u001b[0m \u001b[0mValueError\u001b[0m\u001b[0;34m(\u001b[0m\u001b[0;34m\"Either 'data' or 'shape' must be specified\"\u001b[0m\u001b[0;34m)\u001b[0m\u001b[0;34m\u001b[0m\u001b[0m\n\u001b[0m\u001b[1;32m    220\u001b[0m \u001b[0;34m\u001b[0m\u001b[0m\n\u001b[1;32m    221\u001b[0m         \u001b[0;32mif\u001b[0m \u001b[0mcompression\u001b[0m \u001b[0;32mnot\u001b[0m \u001b[0;32min\u001b[0m \u001b[0;34m(\u001b[0m\u001b[0;32mNone\u001b[0m\u001b[0;34m,\u001b[0m \u001b[0;34m\"gzip\"\u001b[0m\u001b[0;34m,\u001b[0m \u001b[0;34m\"lzf\"\u001b[0m\u001b[0;34m,\u001b[0m \u001b[0;34m\"szip\"\u001b[0m\u001b[0;34m)\u001b[0m\u001b[0;34m:\u001b[0m\u001b[0;34m\u001b[0m\u001b[0m\n",
      "\u001b[0;31mValueError\u001b[0m: Either 'data' or 'shape' must be specified"
     ]
    }
   ],
   "source": [
    "f.create_dataset(\"mydata\")"
   ]
  },
  {
   "cell_type": "markdown",
   "metadata": {},
   "source": [
    "That didn't work. We must specify the dataset either by passing a NumPy array or by passing a shape and a datatype:"
   ]
  },
  {
   "cell_type": "code",
   "execution_count": 17,
   "metadata": {},
   "outputs": [],
   "source": [
    "dst = f.create_dataset(\"mydata\", shape=(400, 300), dtype=np.float64)"
   ]
  },
  {
   "cell_type": "code",
   "execution_count": 18,
   "metadata": {},
   "outputs": [
    {
     "data": {
      "text/html": [
       "<img style=\"display: inline-block !important;margin-right: 2px !important;vertical-align: bottom;\" src=\"data:image/png;base64,iVBORw0KGgoAAAANSUhEUgAAABMAAAATCAIAAAD9MqGbAAAABmJLR0QA/wD/AP+gvaeTAAAACXBIWXMAAAsTAAALEwEAmpwYAAAAB3RJTUUH4QIDDjIxz4nnSAAAAIVJREFUOMvFU0sWgCAITF9nnTvBZacFiQa9Z9mi2TiC8nGwkNyWULdV7Lao6vQogMueJEkRERE2OM/EUaxPVQXwKnO9dQAIJFfbc7p7mvkMMbYhDbm3bFxXpd+0IuPTT/UMHWaSNd9DpDGzSeV2N36dvs+qBG1WVHkygJdqX122assPP/sA4JrfRKa1vDcAAAAASUVORK5CYII=\"/><strong>Dataset (400, 300) float64 </strong> (file=/home/rg/hurray_data/test.h5, path=/mydata)"
      ],
      "text/plain": [
       "<Dataset (400, 300) float64 (db=/home/rg/hurray_data/test.h5, path=/mydata)>"
      ]
     },
     "execution_count": 18,
     "metadata": {},
     "output_type": "execute_result"
    }
   ],
   "source": [
    "dst"
   ]
  },
  {
   "cell_type": "markdown",
   "metadata": {},
   "source": [
    "A dataset has a ``shape`` and a ``dtype``, just like NumPy arrays:"
   ]
  },
  {
   "cell_type": "code",
   "execution_count": 19,
   "metadata": {},
   "outputs": [
    {
     "data": {
      "text/plain": [
       "((400, 300), 'float64')"
      ]
     },
     "execution_count": 19,
     "metadata": {},
     "output_type": "execute_result"
    }
   ],
   "source": [
    "dst.shape, dst.dtype"
   ]
  },
  {
   "cell_type": "markdown",
   "metadata": {},
   "source": [
    "It also has a ``path``, which is the *name* of the dataset, prefixed by the names of containing groups. Our dataset is not contained in a group. It therefore appears under the root node `/` (actually, it **is** in a group: the file itself is the root group)."
   ]
  },
  {
   "cell_type": "code",
   "execution_count": 20,
   "metadata": {},
   "outputs": [
    {
     "data": {
      "text/plain": [
       "'/mydata'"
      ]
     },
     "execution_count": 20,
     "metadata": {},
     "output_type": "execute_result"
    }
   ],
   "source": [
    "dst.path"
   ]
  },
  {
   "cell_type": "markdown",
   "metadata": {},
   "source": [
    "Let's check what data our dataset contains. Numpy-style indexing allows to read/write from/to a dataset. A `[:]`-index reads the whole dataset into memory. Apparently, our dataset has been initialized with zeros:"
   ]
  },
  {
   "cell_type": "code",
   "execution_count": 21,
   "metadata": {},
   "outputs": [
    {
     "data": {
      "text/plain": [
       "array([[ 0.,  0.,  0., ...,  0.,  0.,  0.],\n",
       "       [ 0.,  0.,  0., ...,  0.,  0.,  0.],\n",
       "       [ 0.,  0.,  0., ...,  0.,  0.,  0.],\n",
       "       ..., \n",
       "       [ 0.,  0.,  0., ...,  0.,  0.,  0.],\n",
       "       [ 0.,  0.,  0., ...,  0.,  0.,  0.],\n",
       "       [ 0.,  0.,  0., ...,  0.,  0.,  0.]])"
      ]
     },
     "execution_count": 21,
     "metadata": {},
     "output_type": "execute_result"
    }
   ],
   "source": [
    "dst[:]"
   ]
  },
  {
   "cell_type": "markdown",
   "metadata": {},
   "source": [
    "Let's overwrite this dataset with increasing floating point numbers:"
   ]
  },
  {
   "cell_type": "code",
   "execution_count": 22,
   "metadata": {},
   "outputs": [
    {
     "data": {
      "text/plain": [
       "True"
      ]
     },
     "execution_count": 22,
     "metadata": {},
     "output_type": "execute_result"
    }
   ],
   "source": [
    "arr = np.linspace(0, 1, num=dst.shape[0] * dst.shape[1]).reshape(dst.shape)\n",
    "arr.shape == dst.shape"
   ]
  },
  {
   "cell_type": "code",
   "execution_count": 23,
   "metadata": {
    "collapsed": true
   },
   "outputs": [],
   "source": [
    "dst[:] = arr"
   ]
  },
  {
   "cell_type": "code",
   "execution_count": 24,
   "metadata": {},
   "outputs": [
    {
     "data": {
      "text/plain": [
       "array([[  0.00000000e+00,   8.33340278e-06,   1.66668056e-05, ...,\n",
       "          2.47502063e-03,   2.48335403e-03,   2.49168743e-03],\n",
       "       [  2.50002083e-03,   2.50835424e-03,   2.51668764e-03, ...,\n",
       "          4.97504146e-03,   4.98337486e-03,   4.99170826e-03],\n",
       "       [  5.00004167e-03,   5.00837507e-03,   5.01670847e-03, ...,\n",
       "          7.47506229e-03,   7.48339569e-03,   7.49172910e-03],\n",
       "       ..., \n",
       "       [  9.92508271e-01,   9.92516604e-01,   9.92524938e-01, ...,\n",
       "          9.94983292e-01,   9.94991625e-01,   9.94999958e-01],\n",
       "       [  9.95008292e-01,   9.95016625e-01,   9.95024959e-01, ...,\n",
       "          9.97483312e-01,   9.97491646e-01,   9.97499979e-01],\n",
       "       [  9.97508313e-01,   9.97516646e-01,   9.97524979e-01, ...,\n",
       "          9.99983333e-01,   9.99991667e-01,   1.00000000e+00]])"
      ]
     },
     "execution_count": 24,
     "metadata": {},
     "output_type": "execute_result"
    }
   ],
   "source": [
    "dst[:]"
   ]
  },
  {
   "cell_type": "markdown",
   "metadata": {},
   "source": [
    "Creating a dataset has increased file size:"
   ]
  },
  {
   "cell_type": "code",
   "execution_count": 25,
   "metadata": {},
   "outputs": [
    {
     "data": {
      "text/html": [
       "\n",
       "<svg style=\"display: inline-block !important;margin-right: 2px !important;vertical-align: bottom;\" xmlns=\"http://www.w3.org/2000/svg\" width=\"20\"\n",
       "  height=\"20\" viewBox=\"0 0 20 20\">\n",
       "    <path fill=\"#2385ae\" d=\"M2 3v14h16V5h-8L8 3z\"/>\n",
       "</svg>\n",
       "<strong>File /home/rg/hurray_data/test.h5</strong> (977K)"
      ],
      "text/plain": [
       "<File (db=/home/rg/hurray_data/test.h5, path=/)>"
      ]
     },
     "execution_count": 25,
     "metadata": {},
     "output_type": "execute_result"
    }
   ],
   "source": [
    "f"
   ]
  },
  {
   "cell_type": "markdown",
   "metadata": {},
   "source": [
    "Fancy indexing allows allows to read/write only portions of a dataset. In the following example, only columns `50` to `55` of rows `10` and `11` are sent over the wire:"
   ]
  },
  {
   "cell_type": "code",
   "execution_count": 26,
   "metadata": {},
   "outputs": [
    {
     "data": {
      "text/plain": [
       "array([[ 0.02541688,  0.02542521,  0.02543355,  0.02544188,  0.02545021],\n",
       "       [ 0.0279169 ,  0.02792523,  0.02793357,  0.0279419 ,  0.02795023]])"
      ]
     },
     "execution_count": 26,
     "metadata": {},
     "output_type": "execute_result"
    }
   ],
   "source": [
    "dst[10:12, 50:55]"
   ]
  },
  {
   "cell_type": "markdown",
   "metadata": {},
   "source": [
    "We can also overwrite the above cells using the same notation:"
   ]
  },
  {
   "cell_type": "code",
   "execution_count": 27,
   "metadata": {},
   "outputs": [
    {
     "data": {
      "text/plain": [
       "array([[  2.29168576e-02,   2.29251910e-02,   2.29335244e-02,\n",
       "          2.29418578e-02,   2.29501913e-02],\n",
       "       [  9.99000000e+02,   9.99000000e+02,   9.99000000e+02,\n",
       "          9.99000000e+02,   9.99000000e+02],\n",
       "       [  9.99000000e+02,   9.99000000e+02,   9.99000000e+02,\n",
       "          9.99000000e+02,   9.99000000e+02],\n",
       "       [  3.04169201e-02,   3.04252535e-02,   3.04335869e-02,\n",
       "          3.04419203e-02,   3.04502538e-02]])"
      ]
     },
     "execution_count": 27,
     "metadata": {},
     "output_type": "execute_result"
    }
   ],
   "source": [
    "dst[10:12, 50:55] = 999\n",
    "dst[9:13, 50:55]"
   ]
  },
  {
   "cell_type": "markdown",
   "metadata": {},
   "source": [
    "Require ... TODO"
   ]
  },
  {
   "cell_type": "code",
   "execution_count": 28,
   "metadata": {
    "collapsed": true
   },
   "outputs": [],
   "source": [
    "dst = f.require_dataset(\"mydata\", shape=(400, 300), dtype=np.float64, exact=True)"
   ]
  },
  {
   "cell_type": "code",
   "execution_count": 29,
   "metadata": {},
   "outputs": [
    {
     "data": {
      "text/plain": [
       "array([[  2.29168576e-02,   2.29251910e-02,   2.29335244e-02,\n",
       "          2.29418578e-02,   2.29501913e-02],\n",
       "       [  9.99000000e+02,   9.99000000e+02,   9.99000000e+02,\n",
       "          9.99000000e+02,   9.99000000e+02],\n",
       "       [  9.99000000e+02,   9.99000000e+02,   9.99000000e+02,\n",
       "          9.99000000e+02,   9.99000000e+02],\n",
       "       [  3.04169201e-02,   3.04252535e-02,   3.04335869e-02,\n",
       "          3.04419203e-02,   3.04502538e-02]])"
      ]
     },
     "execution_count": 29,
     "metadata": {},
     "output_type": "execute_result"
    }
   ],
   "source": [
    "dst[9:13, 50:55]"
   ]
  },
  {
   "cell_type": "markdown",
   "metadata": {},
   "source": [
    "This shoud result in an error because dtypes do not match:"
   ]
  },
  {
   "cell_type": "code",
   "execution_count": 30,
   "metadata": {},
   "outputs": [
    {
     "ename": "MessageError",
     "evalue": "(204, 'incompatible dtype and/or shape ', '')",
     "output_type": "error",
     "traceback": [
      "\u001b[0;31m---------------------------------------------------------------------------\u001b[0m",
      "\u001b[0;31mMessageError\u001b[0m                              Traceback (most recent call last)",
      "\u001b[0;32m<ipython-input-30-bed5346ceb06>\u001b[0m in \u001b[0;36m<module>\u001b[0;34m()\u001b[0m\n\u001b[0;32m----> 1\u001b[0;31m \u001b[0mf\u001b[0m\u001b[0;34m.\u001b[0m\u001b[0mrequire_dataset\u001b[0m\u001b[0;34m(\u001b[0m\u001b[0;34m\"mydata\"\u001b[0m\u001b[0;34m,\u001b[0m \u001b[0mshape\u001b[0m\u001b[0;34m=\u001b[0m\u001b[0;34m(\u001b[0m\u001b[0;36m400\u001b[0m\u001b[0;34m,\u001b[0m \u001b[0;36m300\u001b[0m\u001b[0;34m)\u001b[0m\u001b[0;34m,\u001b[0m \u001b[0mdtype\u001b[0m\u001b[0;34m=\u001b[0m\u001b[0mnp\u001b[0m\u001b[0;34m.\u001b[0m\u001b[0mint16\u001b[0m\u001b[0;34m,\u001b[0m \u001b[0mexact\u001b[0m\u001b[0;34m=\u001b[0m\u001b[0;32mTrue\u001b[0m\u001b[0;34m)\u001b[0m\u001b[0;34m\u001b[0m\u001b[0m\n\u001b[0m",
      "\u001b[0;32m~/workspace/hurray-py/hurraypy/nodes.py\u001b[0m in \u001b[0;36mrequire_dataset\u001b[0;34m(self, name, shape, dtype, data, chunks, compression, compression_opts, exact)\u001b[0m\n\u001b[1;32m    284\u001b[0m             \u001b[0margs\u001b[0m\u001b[0;34m[\u001b[0m\u001b[0mCMD_KW_COMPRESSION_OPTS\u001b[0m\u001b[0;34m]\u001b[0m \u001b[0;34m=\u001b[0m \u001b[0mcompression_opts\u001b[0m\u001b[0;34m\u001b[0m\u001b[0m\n\u001b[1;32m    285\u001b[0m         result = self.conn.send_rcv(CMD_REQUIRE_DATASET, h5file=self.h5file,\n\u001b[0;32m--> 286\u001b[0;31m                                     args=args, data=data)\n\u001b[0m\u001b[1;32m    287\u001b[0m \u001b[0;34m\u001b[0m\u001b[0m\n\u001b[1;32m    288\u001b[0m         \u001b[0mdst\u001b[0m \u001b[0;34m=\u001b[0m \u001b[0mresult\u001b[0m\u001b[0;34m[\u001b[0m\u001b[0;34m\"data\"\u001b[0m\u001b[0;34m]\u001b[0m  \u001b[0;31m# Dataset\u001b[0m\u001b[0;34m\u001b[0m\u001b[0m\n",
      "\u001b[0;32m~/workspace/hurray-py/hurraypy/client.py\u001b[0m in \u001b[0;36msend_rcv\u001b[0;34m(self, cmd, h5file, args, data)\u001b[0m\n\u001b[1;32m    211\u001b[0m             \u001b[0merror_msg\u001b[0m \u001b[0;34m=\u001b[0m \u001b[0mresult\u001b[0m\u001b[0;34m.\u001b[0m\u001b[0mget\u001b[0m\u001b[0;34m(\u001b[0m\u001b[0mCMD_KW_DATA\u001b[0m\u001b[0;34m,\u001b[0m \u001b[0;34m\"\"\u001b[0m\u001b[0;34m)\u001b[0m\u001b[0;34m\u001b[0m\u001b[0m\n\u001b[1;32m    212\u001b[0m             \u001b[0;32mif\u001b[0m \u001b[0;36m200\u001b[0m \u001b[0;34m<=\u001b[0m \u001b[0mstatus\u001b[0m \u001b[0;34m<\u001b[0m \u001b[0;36m300\u001b[0m\u001b[0;34m:\u001b[0m\u001b[0;34m\u001b[0m\u001b[0m\n\u001b[0;32m--> 213\u001b[0;31m                 \u001b[0;32mraise\u001b[0m \u001b[0mMessageError\u001b[0m\u001b[0;34m(\u001b[0m\u001b[0mstatus\u001b[0m\u001b[0;34m,\u001b[0m \u001b[0merror_msg\u001b[0m\u001b[0;34m)\u001b[0m\u001b[0;34m\u001b[0m\u001b[0m\n\u001b[0m\u001b[1;32m    214\u001b[0m             \u001b[0;32mif\u001b[0m \u001b[0;36m300\u001b[0m \u001b[0;34m<=\u001b[0m \u001b[0mstatus\u001b[0m \u001b[0;34m<\u001b[0m \u001b[0;36m400\u001b[0m\u001b[0;34m:\u001b[0m\u001b[0;34m\u001b[0m\u001b[0m\n\u001b[1;32m    215\u001b[0m                 \u001b[0;32mraise\u001b[0m \u001b[0mDatabaseError\u001b[0m\u001b[0;34m(\u001b[0m\u001b[0mstatus\u001b[0m\u001b[0;34m,\u001b[0m \u001b[0merror_msg\u001b[0m\u001b[0;34m)\u001b[0m\u001b[0;34m\u001b[0m\u001b[0m\n",
      "\u001b[0;31mMessageError\u001b[0m: (204, 'incompatible dtype and/or shape ', '')"
     ]
    }
   ],
   "source": [
    "f.require_dataset(\"mydata\", shape=(400, 300), dtype=np.int16, exact=True)"
   ]
  },
  {
   "cell_type": "markdown",
   "metadata": {},
   "source": [
    "## Working with groups"
   ]
  },
  {
   "cell_type": "markdown",
   "metadata": {},
   "source": [
    "Datasets can be organised in groups (and subgroups). A group is like a folder and acts like a Python dictionary. Let's create a group named \"data\":"
   ]
  },
  {
   "cell_type": "code",
   "execution_count": 31,
   "metadata": {},
   "outputs": [
    {
     "data": {
      "text/html": [
       "\n",
       "<svg style=\"display: inline-block !important;margin-right: 2px !important;vertical-align: bottom;\" xmlns=\"http://www.w3.org/2000/svg\" width=\"20\"\n",
       "  height=\"20\" viewBox=\"0 0 20 20\">\n",
       "    <path fill=\"#2385ae\" d=\"M2 3v14h16V5h-8L8 3z\"/>\n",
       "</svg>\n",
       "<strong>Group /mygroup</strong> (file=/home/rg/hurray_data/test.h5)"
      ],
      "text/plain": [
       "<Group (db=/home/rg/hurray_data/test.h5, path=/mygroup)>"
      ]
     },
     "execution_count": 31,
     "metadata": {},
     "output_type": "execute_result"
    }
   ],
   "source": [
    "f.create_group(\"mygroup\")"
   ]
  },
  {
   "cell_type": "markdown",
   "metadata": {},
   "source": [
    "Recall that every file object is also a group and therefore acts like a dictionary. Its ``keys()`` now lists are newly created group:"
   ]
  },
  {
   "cell_type": "code",
   "execution_count": 32,
   "metadata": {},
   "outputs": [
    {
     "data": {
      "text/plain": [
       "('mydata', 'mygroup')"
      ]
     },
     "execution_count": 32,
     "metadata": {},
     "output_type": "execute_result"
    }
   ],
   "source": [
    "f.keys()"
   ]
  },
  {
   "cell_type": "markdown",
   "metadata": {},
   "source": [
    "Let's create a subgroup (note that groups follow POSIX filesystem conventions):"
   ]
  },
  {
   "cell_type": "code",
   "execution_count": 33,
   "metadata": {},
   "outputs": [
    {
     "data": {
      "text/html": [
       "\n",
       "<svg style=\"display: inline-block !important;margin-right: 2px !important;vertical-align: bottom;\" xmlns=\"http://www.w3.org/2000/svg\" width=\"20\"\n",
       "  height=\"20\" viewBox=\"0 0 20 20\">\n",
       "    <path fill=\"#2385ae\" d=\"M2 3v14h16V5h-8L8 3z\"/>\n",
       "</svg>\n",
       "<strong>Group /mygroup/subgroup</strong> (file=/home/rg/hurray_data/test.h5)"
      ],
      "text/plain": [
       "<Group (db=/home/rg/hurray_data/test.h5, path=/mygroup/subgroup)>"
      ]
     },
     "execution_count": 33,
     "metadata": {},
     "output_type": "execute_result"
    }
   ],
   "source": [
    "f.create_group(\"mygroup/subgroup\")"
   ]
  },
  {
   "cell_type": "code",
   "execution_count": 34,
   "metadata": {},
   "outputs": [
    {
     "data": {
      "text/html": [
       "\n",
       "<svg style=\"display: inline-block !important;margin-right: 2px !important;vertical-align: bottom;\" xmlns=\"http://www.w3.org/2000/svg\" width=\"20\"\n",
       "  height=\"20\" viewBox=\"0 0 20 20\">\n",
       "    <path fill=\"#2385ae\" d=\"M2 3v14h16V5h-8L8 3z\"/>\n",
       "</svg>\n",
       "<strong>Group /mygroup/subgroup</strong> (file=/home/rg/hurray_data/test.h5)"
      ],
      "text/plain": [
       "<Group (db=/home/rg/hurray_data/test.h5, path=/mygroup/subgroup)>"
      ]
     },
     "execution_count": 34,
     "metadata": {},
     "output_type": "execute_result"
    }
   ],
   "source": [
    "subgrp = f[\"mygroup/subgroup\"]\n",
    "subgrp"
   ]
  },
  {
   "cell_type": "markdown",
   "metadata": {},
   "source": [
    "Now let's put a dataset in our subgroup:"
   ]
  },
  {
   "cell_type": "code",
   "execution_count": 35,
   "metadata": {
    "collapsed": true
   },
   "outputs": [],
   "source": [
    "data = np.random.random((600, 400))"
   ]
  },
  {
   "cell_type": "code",
   "execution_count": 36,
   "metadata": {
    "collapsed": true
   },
   "outputs": [],
   "source": [
    "dst = subgrp.create_dataset(\"randomdata\", data=data)"
   ]
  },
  {
   "cell_type": "code",
   "execution_count": 37,
   "metadata": {},
   "outputs": [
    {
     "data": {
      "text/html": [
       "<img style=\"display: inline-block !important;margin-right: 2px !important;vertical-align: bottom;\" src=\"data:image/png;base64,iVBORw0KGgoAAAANSUhEUgAAABMAAAATCAIAAAD9MqGbAAAABmJLR0QA/wD/AP+gvaeTAAAACXBIWXMAAAsTAAALEwEAmpwYAAAAB3RJTUUH4QIDDjIxz4nnSAAAAIVJREFUOMvFU0sWgCAITF9nnTvBZacFiQa9Z9mi2TiC8nGwkNyWULdV7Lao6vQogMueJEkRERE2OM/EUaxPVQXwKnO9dQAIJFfbc7p7mvkMMbYhDbm3bFxXpd+0IuPTT/UMHWaSNd9DpDGzSeV2N36dvs+qBG1WVHkygJdqX122assPP/sA4JrfRKa1vDcAAAAASUVORK5CYII=\"/><strong>Dataset (600, 400) float64 </strong> (file=/home/rg/hurray_data/test.h5, path=/mygroup/subgroup/randomdata)"
      ],
      "text/plain": [
       "<Dataset (600, 400) float64 (db=/home/rg/hurray_data/test.h5, path=/mygroup/subgroup/randomdata)>"
      ]
     },
     "execution_count": 37,
     "metadata": {},
     "output_type": "execute_result"
    }
   ],
   "source": [
    "dst"
   ]
  },
  {
   "cell_type": "markdown",
   "metadata": {},
   "source": [
    "Every group has a ``tree()`` method that displays sub groups and datasets as a tree."
   ]
  },
  {
   "cell_type": "code",
   "execution_count": 38,
   "metadata": {},
   "outputs": [
    {
     "data": {
      "text/html": [
       "<style type=\"text/css\">\n",
       ".hurraytree, .hurraytree ul{\n",
       "  font: normal normal 14px/20px Helvetica, Arial, sans-serif;\n",
       "  list-style-type: none;\n",
       "  margin-left: 0 0 0 2px !important;\n",
       "  padding: 0;\n",
       "  position: relative;\n",
       "  overflow:hidden;\n",
       "}\n",
       "\n",
       ".hurraytree li{\n",
       "  margin: 0;\n",
       "  padding: 0 12px;\n",
       "  position: relative;\n",
       "}\n",
       "\n",
       ".hurraytree li::before, .hurraytree li::after{\n",
       "  content: '';\n",
       "  position: absolute;\n",
       "  left: 0;\n",
       "}\n",
       "\n",
       "/* horizontal line on inner list items */\n",
       ".hurraytree li::before{\n",
       "  border-top: 1px solid #999999;\n",
       "  top: 10px;\n",
       "  width: 10px;\n",
       "  height: 0;\n",
       "}\n",
       "\n",
       "/* vertical line on list items */\n",
       ".hurraytree li:after{\n",
       "  border-left: 1px solid #999999;\n",
       "  height: 100%;\n",
       "  width: 0px;\n",
       "  top: -10px !important;\n",
       "}\n",
       "\n",
       "/* lower line on list items from the first level because they don't have\n",
       "   parents */\n",
       ".hurraytree > li::after{\n",
       "  top: 10px;\n",
       "}\n",
       "\n",
       "/* hide line from the last of the first level list items */\n",
       ".hurraytree > li:last-child::after{\n",
       "  display: none;\n",
       "}\n",
       "</style><ul class=\"hurraytree\">\n",
       "<li>\n",
       "<svg style=\"display: inline-block !important;margin-right: 2px !important;vertical-align: bottom;\" xmlns=\"http://www.w3.org/2000/svg\" width=\"20\"\n",
       "  height=\"20\" viewBox=\"0 0 20 20\">\n",
       "    <path fill=\"#2385ae\" d=\"M2 3v14h16V5h-8L8 3z\"/>\n",
       "</svg>\n",
       "/<ul><li><img style=\"display: inline-block !important;margin-right: 2px !important;vertical-align: bottom;\" src=\"data:image/png;base64,iVBORw0KGgoAAAANSUhEUgAAABMAAAATCAIAAAD9MqGbAAAABmJLR0QA/wD/AP+gvaeTAAAACXBIWXMAAAsTAAALEwEAmpwYAAAAB3RJTUUH4QIDDjIxz4nnSAAAAIVJREFUOMvFU0sWgCAITF9nnTvBZacFiQa9Z9mi2TiC8nGwkNyWULdV7Lao6vQogMueJEkRERE2OM/EUaxPVQXwKnO9dQAIJFfbc7p7mvkMMbYhDbm3bFxXpd+0IuPTT/UMHWaSNd9DpDGzSeV2N36dvs+qBG1WVHkygJdqX122assPP/sA4JrfRKa1vDcAAAAASUVORK5CYII=\"/><strong>Dataset (400, 300) float64 </strong> (file=/home/rg/hurray_data/test.h5, path=/mydata)</li><li>\n",
       "<svg style=\"display: inline-block !important;margin-right: 2px !important;vertical-align: bottom;\" xmlns=\"http://www.w3.org/2000/svg\" width=\"20\"\n",
       "  height=\"20\" viewBox=\"0 0 20 20\">\n",
       "    <path fill=\"#2385ae\" d=\"M2 3v14h16V5h-8L8 3z\"/>\n",
       "</svg>\n",
       "mygroup<ul><li>\n",
       "<svg style=\"display: inline-block !important;margin-right: 2px !important;vertical-align: bottom;\" xmlns=\"http://www.w3.org/2000/svg\" width=\"20\"\n",
       "  height=\"20\" viewBox=\"0 0 20 20\">\n",
       "    <path fill=\"#2385ae\" d=\"M2 3v14h16V5h-8L8 3z\"/>\n",
       "</svg>\n",
       "subgroup<ul><li><img style=\"display: inline-block !important;margin-right: 2px !important;vertical-align: bottom;\" src=\"data:image/png;base64,iVBORw0KGgoAAAANSUhEUgAAABMAAAATCAIAAAD9MqGbAAAABmJLR0QA/wD/AP+gvaeTAAAACXBIWXMAAAsTAAALEwEAmpwYAAAAB3RJTUUH4QIDDjIxz4nnSAAAAIVJREFUOMvFU0sWgCAITF9nnTvBZacFiQa9Z9mi2TiC8nGwkNyWULdV7Lao6vQogMueJEkRERE2OM/EUaxPVQXwKnO9dQAIJFfbc7p7mvkMMbYhDbm3bFxXpd+0IuPTT/UMHWaSNd9DpDGzSeV2N36dvs+qBG1WVHkygJdqX122assPP/sA4JrfRKa1vDcAAAAASUVORK5CYII=\"/><strong>Dataset (600, 400) float64 </strong> (file=/home/rg/hurray_data/test.h5, path=/mygroup/subgroup/randomdata)</li></ul></li></ul></li></ul></li></ul>"
      ],
      "text/plain": [
       "── /\n",
       "    ├─ <Dataset (400, 300) float64 (db=/home/rg/hurray_data/test.h5, path=/mydata)>\n",
       "    └─ mygroup\n",
       "        └─ subgroup\n",
       "            └─ <Dataset (600, 400) float64 (db=/home/rg/hurray_data/test.h5, path=/mygroup/subgroup/randomdata)>"
      ]
     },
     "execution_count": 38,
     "metadata": {},
     "output_type": "execute_result"
    }
   ],
   "source": [
    "f.tree()"
   ]
  },
  {
   "cell_type": "markdown",
   "metadata": {},
   "source": [
    "If you're not in a notebook or ipython console, ``tree()`` will give you a text based representation:"
   ]
  },
  {
   "cell_type": "code",
   "execution_count": 39,
   "metadata": {},
   "outputs": [
    {
     "name": "stdout",
     "output_type": "stream",
     "text": [
      "── /\n",
      "    ├─ <Dataset (400, 300) float64 (db=/home/rg/hurray_data/test.h5, path=/mydata)>\n",
      "    └─ mygroup\n",
      "        └─ subgroup\n",
      "            └─ <Dataset (600, 400) float64 (db=/home/rg/hurray_data/test.h5, path=/mygroup/subgroup/randomdata)>\n"
     ]
    }
   ],
   "source": [
    "print(f.tree())"
   ]
  },
  {
   "cell_type": "markdown",
   "metadata": {},
   "source": [
    "## Attributes"
   ]
  },
  {
   "cell_type": "markdown",
   "metadata": {},
   "source": [
    "Every group and dataset can be assigned a number of key/value pairs, so-called *attributes*:"
   ]
  },
  {
   "cell_type": "code",
   "execution_count": 40,
   "metadata": {
    "collapsed": true
   },
   "outputs": [],
   "source": [
    "dst = f[\"mygroup/subgroup/randomdata\"]\n",
    "dst.attrs[\"unit\"] = \"celsius\"\n",
    "dst.attrs[\"max_value\"] = 50"
   ]
  },
  {
   "cell_type": "markdown",
   "metadata": {},
   "source": [
    "Objects that have attributes get a red \"A\":"
   ]
  },
  {
   "cell_type": "code",
   "execution_count": 41,
   "metadata": {},
   "outputs": [
    {
     "data": {
      "text/html": [
       "<img style=\"display: inline-block !important;margin-right: 2px !important;vertical-align: bottom;\" src=\"data:image/png;base64,iVBORw0KGgoAAAANSUhEUgAAABMAAAATCAIAAAD9MqGbAAAABmJLR0QA/wD/AP+gvaeTAAAACXBIWXMAAAsTAAALEwEAmpwYAAAAB3RJTUUH4QIDEiMuBGSTuQAAAKFJREFUOMvFU9EOxCAIw+W+lX0T/dnugelQzpiZS64xERUsWCwkZQuH7OLjE4Clq6p2a5IkzczMWNHsbDQUrxOAqr5iPr4eqOpg5Gwfzna8ZL6viGVYRa4tb+6r8kR6kuPTL/UcKsyGnidmkZnZpRIRKcWDhWx3/bpOAL4E4ITiH8Pt2H2DNp0AInFMVRnbIJLUp+p6aBZ8+zWfkHn5w8++ABRp3VoL9MWtAAAAAElFTkSuQmCC\"/><strong>Dataset (600, 400) float64 </strong> (file=/home/rg/hurray_data/test.h5, path=/mygroup/subgroup/randomdata)"
      ],
      "text/plain": [
       "<Dataset (600, 400) float64 (db=/home/rg/hurray_data/test.h5, path=/mygroup/subgroup/randomdata)>"
      ]
     },
     "execution_count": 41,
     "metadata": {},
     "output_type": "execute_result"
    }
   ],
   "source": [
    "dst"
   ]
  },
  {
   "cell_type": "code",
   "execution_count": 42,
   "metadata": {},
   "outputs": [
    {
     "data": {
      "text/plain": [
       "('unit', 'max_value')"
      ]
     },
     "execution_count": 42,
     "metadata": {},
     "output_type": "execute_result"
    }
   ],
   "source": [
    "dst.attrs.keys()"
   ]
  },
  {
   "cell_type": "code",
   "execution_count": 43,
   "metadata": {},
   "outputs": [
    {
     "data": {
      "text/plain": [
       "('celsius', 50)"
      ]
     },
     "execution_count": 43,
     "metadata": {},
     "output_type": "execute_result"
    }
   ],
   "source": [
    "dst.attrs[\"unit\"], dst.attrs[\"max_value\"]"
   ]
  },
  {
   "cell_type": "code",
   "execution_count": null,
   "metadata": {
    "collapsed": true
   },
   "outputs": [],
   "source": []
  }
 ],
 "metadata": {
  "kernelspec": {
   "display_name": "Python 3",
   "language": "python",
   "name": "python3"
  },
  "language_info": {
   "codemirror_mode": {
    "name": "ipython",
    "version": 3
   },
   "file_extension": ".py",
   "mimetype": "text/x-python",
   "name": "python",
   "nbconvert_exporter": "python",
   "pygments_lexer": "ipython3",
   "version": "3.5.2"
  }
 },
 "nbformat": 4,
 "nbformat_minor": 2
}
