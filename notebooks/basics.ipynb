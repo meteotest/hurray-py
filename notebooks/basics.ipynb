{
 "cells": [
  {
   "cell_type": "markdown",
   "metadata": {},
   "source": [
    "# Hurray basic usage"
   ]
  },
  {
   "cell_type": "code",
   "execution_count": 1,
   "metadata": {
    "collapsed": true
   },
   "outputs": [],
   "source": [
    "import os\n",
    "import sys\n",
    "module_path = os.path.abspath(os.path.join('..'))\n",
    "if module_path not in sys.path:\n",
    "    sys.path.append(module_path)"
   ]
  },
  {
   "cell_type": "code",
   "execution_count": 2,
   "metadata": {
    "collapsed": false
   },
   "outputs": [],
   "source": [
    "import hurraypy as hr\n",
    "import numpy as np"
   ]
  },
  {
   "cell_type": "markdown",
   "metadata": {},
   "source": [
    "Make sure a hurray server instance is running at localhost:2222."
   ]
  },
  {
   "cell_type": "code",
   "execution_count": 3,
   "metadata": {
    "collapsed": false
   },
   "outputs": [
    {
     "data": {
      "text/plain": [
       "'0.0.3'"
      ]
     },
     "execution_count": 3,
     "metadata": {},
     "output_type": "execute_result"
    }
   ],
   "source": [
    "hr.__version__"
   ]
  },
  {
   "cell_type": "code",
   "execution_count": 4,
   "metadata": {
    "collapsed": false
   },
   "outputs": [],
   "source": [
    "conn = hr.connect('localhost', '2222')"
   ]
  },
  {
   "cell_type": "code",
   "execution_count": 5,
   "metadata": {
    "collapsed": false
   },
   "outputs": [
    {
     "data": {
      "text/plain": [
       "<hurraypy.client.Connection at 0x7f35ac0e7e80>"
      ]
     },
     "execution_count": 5,
     "metadata": {},
     "output_type": "execute_result"
    }
   ],
   "source": [
    "conn"
   ]
  },
  {
   "cell_type": "code",
   "execution_count": 6,
   "metadata": {
    "collapsed": false
   },
   "outputs": [],
   "source": [
    "conn.create_file(\"test.h5\", overwrite=True)"
   ]
  },
  {
   "cell_type": "code",
   "execution_count": 7,
   "metadata": {
    "collapsed": false
   },
   "outputs": [],
   "source": [
    "db = conn.use_file(\"test.h5\")"
   ]
  },
  {
   "cell_type": "code",
   "execution_count": 8,
   "metadata": {
    "collapsed": false
   },
   "outputs": [
    {
     "name": "stdout",
     "output_type": "stream",
     "text": [
      "<Group (db=test.h5, path=/)>\n"
     ]
    }
   ],
   "source": [
    "with conn.use_file(\"test.h5\") as f:\n",
    "    print(f)"
   ]
  },
  {
   "cell_type": "code",
   "execution_count": 9,
   "metadata": {
    "collapsed": false
   },
   "outputs": [],
   "source": [
    "db.attrs[\"bla\"] = 123"
   ]
  },
  {
   "cell_type": "code",
   "execution_count": 10,
   "metadata": {
    "collapsed": false
   },
   "outputs": [
    {
     "data": {
      "text/plain": [
       "123"
      ]
     },
     "execution_count": 10,
     "metadata": {},
     "output_type": "execute_result"
    }
   ],
   "source": [
    "db.attrs[\"bla\"]"
   ]
  },
  {
   "cell_type": "markdown",
   "metadata": {},
   "source": [
    "Note that files, groups, and datasets present themselves nicely in Jupyter notebooks (the red \"A\" indicates that this group has got some attributes):"
   ]
  },
  {
   "cell_type": "code",
   "execution_count": 11,
   "metadata": {
    "collapsed": false
   },
   "outputs": [
    {
     "data": {
      "text/html": [
       "\n",
       "<svg style=\"display: inline-block !important;margin-right: 2px !important;vertical-align: bottom;\" xmlns=\"http://www.w3.org/2000/svg\" width=\"20\"\n",
       "  height=\"20\" viewBox=\"0 0 20 20\">\n",
       "  <path\n",
       "     fill=\"#2385ae\"\n",
       "     d=\"M2 3v14h16V5h-8L8 3z\"\n",
       "     id=\"path3386\" />\n",
       "  <text\n",
       "     xml:space=\"preserve\"\n",
       "     style=\"font-style:normal;font-weight:normal;font-size:13.07740307px;line-height:125%;font-family:sans-serif;letter-spacing:0px;word-spacing:0px;fill:#000000;fill-opacity:1;stroke:none;stroke-width:1px;stroke-linecap:butt;stroke-linejoin:miter;stroke-opacity:1\"\n",
       "     x=\"9.8855734\"\n",
       "     y=\"18.02062\"\n",
       "     id=\"text4206\"\n",
       "     sodipodi:linespacing=\"125%\"\n",
       "     transform=\"scale(1.0461923,0.95584726)\"><tspan\n",
       "       sodipodi:role=\"line\"\n",
       "       id=\"tspan4208\"\n",
       "       x=\"9.8855734\"\n",
       "       y=\"18.02062\"\n",
       "       style=\"font-style:normal;font-variant:normal;font-weight:bold;font-stretch:normal;font-size:13.07740307px;line-height:125%;font-family:'DejaVu Sans Mono';-inkscape-font-specification:'DejaVu Sans Mono, Bold';text-align:start;writing-mode:lr-tb;text-anchor:start;fill:#ff0000;fill-opacity:1\">A</tspan></text>\n",
       "</svg>\n",
       "<strong>File test.h5</strong> (912b)"
      ],
      "text/plain": [
       "<Group (db=test.h5, path=/)>"
      ]
     },
     "execution_count": 11,
     "metadata": {},
     "output_type": "execute_result"
    }
   ],
   "source": [
    "db"
   ]
  },
  {
   "cell_type": "code",
   "execution_count": 12,
   "metadata": {
    "collapsed": false
   },
   "outputs": [
    {
     "data": {
      "text/html": [
       "\n",
       "<svg style=\"display: inline-block !important;margin-right: 2px !important;vertical-align: bottom;\" xmlns=\"http://www.w3.org/2000/svg\" width=\"20\"\n",
       "  height=\"20\" viewBox=\"0 0 20 20\">\n",
       "    <path fill=\"#2385ae\" d=\"M2 3v14h16V5h-8L8 3z\"/>\n",
       "</svg>\n",
       "<strong>Group /test</strong> (file=test.h5)"
      ],
      "text/plain": [
       "<Group (db=test.h5, path=/test)>"
      ]
     },
     "execution_count": 12,
     "metadata": {},
     "output_type": "execute_result"
    }
   ],
   "source": [
    "db.create_group(\"test\")"
   ]
  },
  {
   "cell_type": "code",
   "execution_count": 13,
   "metadata": {
    "collapsed": false
   },
   "outputs": [
    {
     "data": {
      "text/plain": [
       "('test',)"
      ]
     },
     "execution_count": 13,
     "metadata": {},
     "output_type": "execute_result"
    }
   ],
   "source": [
    "db.keys()"
   ]
  },
  {
   "cell_type": "code",
   "execution_count": 14,
   "metadata": {
    "collapsed": false
   },
   "outputs": [
    {
     "data": {
      "text/html": [
       "\n",
       "<svg style=\"display: inline-block !important;margin-right: 2px !important;vertical-align: bottom;\" xmlns=\"http://www.w3.org/2000/svg\" width=\"20\"\n",
       "  height=\"20\" viewBox=\"0 0 20 20\">\n",
       "    <path fill=\"#2385ae\" d=\"M2 3v14h16V5h-8L8 3z\"/>\n",
       "</svg>\n",
       "<strong>Group /test</strong> (file=test.h5)"
      ],
      "text/plain": [
       "<Group (db=test.h5, path=/test)>"
      ]
     },
     "execution_count": 14,
     "metadata": {},
     "output_type": "execute_result"
    }
   ],
   "source": [
    "db[\"test\"]"
   ]
  },
  {
   "cell_type": "code",
   "execution_count": 15,
   "metadata": {
    "collapsed": false
   },
   "outputs": [],
   "source": [
    "grp = db.create_group(\"mygrp/data\")"
   ]
  },
  {
   "cell_type": "code",
   "execution_count": 16,
   "metadata": {
    "collapsed": false
   },
   "outputs": [
    {
     "data": {
      "text/plain": [
       "('mygrp', 'test')"
      ]
     },
     "execution_count": 16,
     "metadata": {},
     "output_type": "execute_result"
    }
   ],
   "source": [
    "db.keys()"
   ]
  },
  {
   "cell_type": "code",
   "execution_count": 17,
   "metadata": {
    "collapsed": false
   },
   "outputs": [
    {
     "data": {
      "text/html": [
       "\n",
       "<svg style=\"display: inline-block !important;margin-right: 2px !important;vertical-align: bottom;\" xmlns=\"http://www.w3.org/2000/svg\" width=\"20\"\n",
       "  height=\"20\" viewBox=\"0 0 20 20\">\n",
       "    <path fill=\"#2385ae\" d=\"M2 3v14h16V5h-8L8 3z\"/>\n",
       "</svg>\n",
       "<strong>Group /mygrp/data</strong> (file=test.h5)"
      ],
      "text/plain": [
       "<Group (db=test.h5, path=/mygrp/data)>"
      ]
     },
     "execution_count": 17,
     "metadata": {},
     "output_type": "execute_result"
    }
   ],
   "source": [
    "db[\"mygrp/data\"]"
   ]
  },
  {
   "cell_type": "code",
   "execution_count": 18,
   "metadata": {
    "collapsed": false
   },
   "outputs": [
    {
     "data": {
      "text/plain": [
       "'/mygrp/data'"
      ]
     },
     "execution_count": 18,
     "metadata": {},
     "output_type": "execute_result"
    }
   ],
   "source": [
    "grp.path"
   ]
  },
  {
   "cell_type": "code",
   "execution_count": 19,
   "metadata": {
    "collapsed": false
   },
   "outputs": [
    {
     "data": {
      "text/html": [
       "\n",
       "<svg style=\"display: inline-block !important;margin-right: 2px !important;vertical-align: bottom;\" xmlns=\"http://www.w3.org/2000/svg\" width=\"20\"\n",
       "  height=\"20\" viewBox=\"0 0 20 20\">\n",
       "    <path fill=\"#2385ae\" d=\"M2 3v14h16V5h-8L8 3z\"/>\n",
       "</svg>\n",
       "<strong>Group /mygrp</strong> (file=test.h5)"
      ],
      "text/plain": [
       "<Group (db=test.h5, path=/mygrp)>"
      ]
     },
     "execution_count": 19,
     "metadata": {},
     "output_type": "execute_result"
    }
   ],
   "source": [
    "db[\"/mygrp\"]"
   ]
  },
  {
   "cell_type": "code",
   "execution_count": 20,
   "metadata": {
    "collapsed": true
   },
   "outputs": [],
   "source": [
    "db[\"/mygrp\"].attrs[\"foo\"] = \"bar\""
   ]
  },
  {
   "cell_type": "code",
   "execution_count": 21,
   "metadata": {
    "collapsed": false
   },
   "outputs": [
    {
     "data": {
      "text/html": [
       "\n",
       "<svg style=\"display: inline-block !important;margin-right: 2px !important;vertical-align: bottom;\" xmlns=\"http://www.w3.org/2000/svg\" width=\"20\"\n",
       "  height=\"20\" viewBox=\"0 0 20 20\">\n",
       "  <path\n",
       "     fill=\"#2385ae\"\n",
       "     d=\"M2 3v14h16V5h-8L8 3z\"\n",
       "     id=\"path3386\" />\n",
       "  <text\n",
       "     xml:space=\"preserve\"\n",
       "     style=\"font-style:normal;font-weight:normal;font-size:13.07740307px;line-height:125%;font-family:sans-serif;letter-spacing:0px;word-spacing:0px;fill:#000000;fill-opacity:1;stroke:none;stroke-width:1px;stroke-linecap:butt;stroke-linejoin:miter;stroke-opacity:1\"\n",
       "     x=\"9.8855734\"\n",
       "     y=\"18.02062\"\n",
       "     id=\"text4206\"\n",
       "     sodipodi:linespacing=\"125%\"\n",
       "     transform=\"scale(1.0461923,0.95584726)\"><tspan\n",
       "       sodipodi:role=\"line\"\n",
       "       id=\"tspan4208\"\n",
       "       x=\"9.8855734\"\n",
       "       y=\"18.02062\"\n",
       "       style=\"font-style:normal;font-variant:normal;font-weight:bold;font-stretch:normal;font-size:13.07740307px;line-height:125%;font-family:'DejaVu Sans Mono';-inkscape-font-specification:'DejaVu Sans Mono, Bold';text-align:start;writing-mode:lr-tb;text-anchor:start;fill:#ff0000;fill-opacity:1\">A</tspan></text>\n",
       "</svg>\n",
       "<strong>Group /mygrp</strong> (file=test.h5)"
      ],
      "text/plain": [
       "<Group (db=test.h5, path=/mygrp)>"
      ]
     },
     "execution_count": 21,
     "metadata": {},
     "output_type": "execute_result"
    }
   ],
   "source": [
    "db[\"/mygrp\"]"
   ]
  },
  {
   "cell_type": "code",
   "execution_count": 22,
   "metadata": {
    "collapsed": false
   },
   "outputs": [
    {
     "data": {
      "text/plain": [
       "('data',)"
      ]
     },
     "execution_count": 22,
     "metadata": {},
     "output_type": "execute_result"
    }
   ],
   "source": [
    "db[\"/mygrp\"].keys()"
   ]
  },
  {
   "cell_type": "code",
   "execution_count": 23,
   "metadata": {
    "collapsed": true
   },
   "outputs": [],
   "source": [
    "data = np.random.random((600, 400))"
   ]
  },
  {
   "cell_type": "code",
   "execution_count": 24,
   "metadata": {
    "collapsed": false
   },
   "outputs": [
    {
     "data": {
      "text/html": [
       "<img style=\"display: inline-block !important;margin-right: 2px !important;vertical-align: bottom;\" src=\"data:image/png;base64,iVBORw0KGgoAAAANSUhEUgAAABMAAAATCAIAAAD9MqGbAAAABmJLR0QA/wD/AP+gvaeTAAAACXBIWXMAAAsTAAALEwEAmpwYAAAAB3RJTUUH4QIDDjIxz4nnSAAAAIVJREFUOMvFU0sWgCAITF9nnTvBZacFiQa9Z9mi2TiC8nGwkNyWULdV7Lao6vQogMueJEkRERE2OM/EUaxPVQXwKnO9dQAIJFfbc7p7mvkMMbYhDbm3bFxXpd+0IuPTT/UMHWaSNd9DpDGzSeV2N36dvs+qBG1WVHkygJdqX122assPP/sA4JrfRKa1vDcAAAAASUVORK5CYII=\"/><strong>Dataset (600, 400) float64 </strong> (file=test.h5, path=/mygrp/data/myarray)"
      ],
      "text/plain": [
       "<Dataset (600, 400) float64 (db=test.h5, path=/mygrp/data/myarray)>"
      ]
     },
     "execution_count": 24,
     "metadata": {},
     "output_type": "execute_result"
    }
   ],
   "source": [
    "grp.create_dataset(\"myarray\", data=data)"
   ]
  },
  {
   "cell_type": "code",
   "execution_count": 25,
   "metadata": {
    "collapsed": true
   },
   "outputs": [],
   "source": [
    "dst = db[\"/mygrp/data/myarray\"]"
   ]
  },
  {
   "cell_type": "code",
   "execution_count": 26,
   "metadata": {
    "collapsed": false
   },
   "outputs": [
    {
     "data": {
      "text/html": [
       "<img style=\"display: inline-block !important;margin-right: 2px !important;vertical-align: bottom;\" src=\"data:image/png;base64,iVBORw0KGgoAAAANSUhEUgAAABMAAAATCAIAAAD9MqGbAAAABmJLR0QA/wD/AP+gvaeTAAAACXBIWXMAAAsTAAALEwEAmpwYAAAAB3RJTUUH4QIDDjIxz4nnSAAAAIVJREFUOMvFU0sWgCAITF9nnTvBZacFiQa9Z9mi2TiC8nGwkNyWULdV7Lao6vQogMueJEkRERE2OM/EUaxPVQXwKnO9dQAIJFfbc7p7mvkMMbYhDbm3bFxXpd+0IuPTT/UMHWaSNd9DpDGzSeV2N36dvs+qBG1WVHkygJdqX122assPP/sA4JrfRKa1vDcAAAAASUVORK5CYII=\"/><strong>Dataset (600, 400) float64 </strong> (file=test.h5, path=/mygrp/data/myarray)"
      ],
      "text/plain": [
       "<Dataset (600, 400) float64 (db=test.h5, path=/mygrp/data/myarray)>"
      ]
     },
     "execution_count": 26,
     "metadata": {},
     "output_type": "execute_result"
    }
   ],
   "source": [
    "dst"
   ]
  },
  {
   "cell_type": "code",
   "execution_count": 27,
   "metadata": {
    "collapsed": true
   },
   "outputs": [],
   "source": [
    "dst.attrs[\"unit\"] = \"celsius\""
   ]
  },
  {
   "cell_type": "code",
   "execution_count": 28,
   "metadata": {
    "collapsed": false
   },
   "outputs": [
    {
     "data": {
      "text/html": [
       "<img style=\"display: inline-block !important;margin-right: 2px !important;vertical-align: bottom;\" src=\"data:image/png;base64,iVBORw0KGgoAAAANSUhEUgAAABMAAAATCAIAAAD9MqGbAAAABmJLR0QA/wD/AP+gvaeTAAAACXBIWXMAAAsTAAALEwEAmpwYAAAAB3RJTUUH4QIDEiMuBGSTuQAAAKFJREFUOMvFU9EOxCAIw+W+lX0T/dnugelQzpiZS64xERUsWCwkZQuH7OLjE4Clq6p2a5IkzczMWNHsbDQUrxOAqr5iPr4eqOpg5Gwfzna8ZL6viGVYRa4tb+6r8kR6kuPTL/UcKsyGnidmkZnZpRIRKcWDhWx3/bpOAL4E4ITiH8Pt2H2DNp0AInFMVRnbIJLUp+p6aBZ8+zWfkHn5w8++ABRp3VoL9MWtAAAAAElFTkSuQmCC\"/><strong>Dataset (600, 400) float64 </strong> (file=test.h5, path=/mygrp/data/myarray)"
      ],
      "text/plain": [
       "<Dataset (600, 400) float64 (db=test.h5, path=/mygrp/data/myarray)>"
      ]
     },
     "execution_count": 28,
     "metadata": {},
     "output_type": "execute_result"
    }
   ],
   "source": [
    "dst"
   ]
  },
  {
   "cell_type": "code",
   "execution_count": 29,
   "metadata": {
    "collapsed": false
   },
   "outputs": [
    {
     "data": {
      "text/plain": [
       "(600, 400)"
      ]
     },
     "execution_count": 29,
     "metadata": {},
     "output_type": "execute_result"
    }
   ],
   "source": [
    "dst.shape"
   ]
  },
  {
   "cell_type": "code",
   "execution_count": 30,
   "metadata": {
    "collapsed": false
   },
   "outputs": [
    {
     "data": {
      "text/plain": [
       "'float64'"
      ]
     },
     "execution_count": 30,
     "metadata": {},
     "output_type": "execute_result"
    }
   ],
   "source": [
    "dst.dtype"
   ]
  },
  {
   "cell_type": "code",
   "execution_count": 31,
   "metadata": {
    "collapsed": false
   },
   "outputs": [
    {
     "data": {
      "text/plain": [
       "array([[ 0.32230335,  0.91422905,  0.97544708, ...,  0.50132148,\n",
       "         0.50336479,  0.09890839],\n",
       "       [ 0.00874017,  0.11182765,  0.02589275, ...,  0.71940471,\n",
       "         0.51953732,  0.57642953],\n",
       "       [ 0.25452827,  0.3395885 ,  0.12172234, ...,  0.61969511,\n",
       "         0.07683981,  0.69657115],\n",
       "       ..., \n",
       "       [ 0.81362546,  0.01600122,  0.75787594, ...,  0.24294177,\n",
       "         0.66921965,  0.26116843],\n",
       "       [ 0.67049821,  0.46209631,  0.47710682, ...,  0.07701534,\n",
       "         0.15842358,  0.23806118],\n",
       "       [ 0.30156206,  0.48289586,  0.3722526 , ...,  0.00585314,\n",
       "         0.30661488,  0.54831816]])"
      ]
     },
     "execution_count": 31,
     "metadata": {},
     "output_type": "execute_result"
    }
   ],
   "source": [
    "dst[:]"
   ]
  },
  {
   "cell_type": "code",
   "execution_count": 32,
   "metadata": {
    "collapsed": true
   },
   "outputs": [],
   "source": [
    "dst[0, 0:3] = 999"
   ]
  },
  {
   "cell_type": "code",
   "execution_count": 33,
   "metadata": {
    "collapsed": false
   },
   "outputs": [
    {
     "data": {
      "text/plain": [
       "array([  9.99000000e+02,   9.99000000e+02,   9.99000000e+02,\n",
       "         8.99576529e-01])"
      ]
     },
     "execution_count": 33,
     "metadata": {},
     "output_type": "execute_result"
    }
   ],
   "source": [
    "dst[0, 0:4]"
   ]
  },
  {
   "cell_type": "code",
   "execution_count": 34,
   "metadata": {
    "collapsed": false
   },
   "outputs": [
    {
     "data": {
      "text/html": [
       "\n",
       "<svg style=\"display: inline-block !important;margin-right: 2px !important;vertical-align: bottom;\" xmlns=\"http://www.w3.org/2000/svg\" width=\"20\"\n",
       "  height=\"20\" viewBox=\"0 0 20 20\">\n",
       "  <path\n",
       "     fill=\"#2385ae\"\n",
       "     d=\"M2 3v14h16V5h-8L8 3z\"\n",
       "     id=\"path3386\" />\n",
       "  <text\n",
       "     xml:space=\"preserve\"\n",
       "     style=\"font-style:normal;font-weight:normal;font-size:13.07740307px;line-height:125%;font-family:sans-serif;letter-spacing:0px;word-spacing:0px;fill:#000000;fill-opacity:1;stroke:none;stroke-width:1px;stroke-linecap:butt;stroke-linejoin:miter;stroke-opacity:1\"\n",
       "     x=\"9.8855734\"\n",
       "     y=\"18.02062\"\n",
       "     id=\"text4206\"\n",
       "     sodipodi:linespacing=\"125%\"\n",
       "     transform=\"scale(1.0461923,0.95584726)\"><tspan\n",
       "       sodipodi:role=\"line\"\n",
       "       id=\"tspan4208\"\n",
       "       x=\"9.8855734\"\n",
       "       y=\"18.02062\"\n",
       "       style=\"font-style:normal;font-variant:normal;font-weight:bold;font-stretch:normal;font-size:13.07740307px;line-height:125%;font-family:'DejaVu Sans Mono';-inkscape-font-specification:'DejaVu Sans Mono, Bold';text-align:start;writing-mode:lr-tb;text-anchor:start;fill:#ff0000;fill-opacity:1\">A</tspan></text>\n",
       "</svg>\n",
       "<strong>File test.h5</strong> (1.9M)"
      ],
      "text/plain": [
       "<Group (db=test.h5, path=/)>"
      ]
     },
     "execution_count": 34,
     "metadata": {},
     "output_type": "execute_result"
    }
   ],
   "source": [
    "db"
   ]
  },
  {
   "cell_type": "markdown",
   "metadata": {},
   "source": [
    "## Exploring file structures\n",
    "\n",
    "Every group has a ``tree()`` method that displays sub groups and datasets as a tree."
   ]
  },
  {
   "cell_type": "code",
   "execution_count": 35,
   "metadata": {
    "collapsed": false
   },
   "outputs": [
    {
     "data": {
      "text/html": [
       "\n",
       "<svg style=\"display: inline-block !important;margin-right: 2px !important;vertical-align: bottom;\" xmlns=\"http://www.w3.org/2000/svg\" width=\"20\"\n",
       "  height=\"20\" viewBox=\"0 0 20 20\">\n",
       "    <path fill=\"#2385ae\" d=\"M2 3v14h16V5h-8L8 3z\"/>\n",
       "</svg>\n",
       "<strong>Group /test/test2/test3</strong> (file=test.h5)"
      ],
      "text/plain": [
       "<Group (db=test.h5, path=/test/test2/test3)>"
      ]
     },
     "execution_count": 35,
     "metadata": {},
     "output_type": "execute_result"
    }
   ],
   "source": [
    "db.require_group(\"/mygrp/data/somegroup\")\n",
    "db.require_group(\"/mygrp/datagrp2\")\n",
    "db.require_group(\"/mygrp/datagrp3\")\n",
    "db.require_group(\"/test/test2/test3\")"
   ]
  },
  {
   "cell_type": "code",
   "execution_count": 36,
   "metadata": {
    "collapsed": false
   },
   "outputs": [
    {
     "data": {
      "text/html": [
       "<style type=\"text/css\">\n",
       ".hurraytree, .hurraytree ul{\n",
       "  font: normal normal 14px/20px Helvetica, Arial, sans-serif;\n",
       "  list-style-type: none;\n",
       "  margin-left: 0 0 0 2px !important;\n",
       "  padding: 0;\n",
       "  position: relative;\n",
       "  overflow:hidden;\n",
       "}\n",
       "\n",
       ".hurraytree li{\n",
       "  margin: 0;\n",
       "  padding: 0 12px;\n",
       "  position: relative;\n",
       "}\n",
       "\n",
       ".hurraytree li::before, .hurraytree li::after{\n",
       "  content: '';\n",
       "  position: absolute;\n",
       "  left: 0;\n",
       "}\n",
       "\n",
       "/* horizontal line on inner list items */\n",
       ".hurraytree li::before{\n",
       "  border-top: 1px solid #999999;\n",
       "  top: 10px;\n",
       "  width: 10px;\n",
       "  height: 0;\n",
       "}\n",
       "\n",
       "/* vertical line on list items */\n",
       ".hurraytree li:after{\n",
       "  border-left: 1px solid #999999;\n",
       "  height: 100%;\n",
       "  width: 0px;\n",
       "  top: -10px !important;\n",
       "}\n",
       "\n",
       "/* lower line on list items from the first level because they don't have\n",
       "   parents */\n",
       ".hurraytree > li::after{\n",
       "  top: 10px;\n",
       "}\n",
       "\n",
       "/* hide line from the last of the first level list items */\n",
       ".hurraytree > li:last-child::after{\n",
       "  display: none;\n",
       "}\n",
       "</style><ul class=\"hurraytree\">\n",
       "<li>\n",
       "<svg style=\"display: inline-block !important;margin-right: 2px !important;vertical-align: bottom;\" xmlns=\"http://www.w3.org/2000/svg\" width=\"20\"\n",
       "  height=\"20\" viewBox=\"0 0 20 20\">\n",
       "  <path\n",
       "     fill=\"#2385ae\"\n",
       "     d=\"M2 3v14h16V5h-8L8 3z\"\n",
       "     id=\"path3386\" />\n",
       "  <text\n",
       "     xml:space=\"preserve\"\n",
       "     style=\"font-style:normal;font-weight:normal;font-size:13.07740307px;line-height:125%;font-family:sans-serif;letter-spacing:0px;word-spacing:0px;fill:#000000;fill-opacity:1;stroke:none;stroke-width:1px;stroke-linecap:butt;stroke-linejoin:miter;stroke-opacity:1\"\n",
       "     x=\"9.8855734\"\n",
       "     y=\"18.02062\"\n",
       "     id=\"text4206\"\n",
       "     sodipodi:linespacing=\"125%\"\n",
       "     transform=\"scale(1.0461923,0.95584726)\"><tspan\n",
       "       sodipodi:role=\"line\"\n",
       "       id=\"tspan4208\"\n",
       "       x=\"9.8855734\"\n",
       "       y=\"18.02062\"\n",
       "       style=\"font-style:normal;font-variant:normal;font-weight:bold;font-stretch:normal;font-size:13.07740307px;line-height:125%;font-family:'DejaVu Sans Mono';-inkscape-font-specification:'DejaVu Sans Mono, Bold';text-align:start;writing-mode:lr-tb;text-anchor:start;fill:#ff0000;fill-opacity:1\">A</tspan></text>\n",
       "</svg>\n",
       "/<ul><li>\n",
       "<svg style=\"display: inline-block !important;margin-right: 2px !important;vertical-align: bottom;\" xmlns=\"http://www.w3.org/2000/svg\" width=\"20\"\n",
       "  height=\"20\" viewBox=\"0 0 20 20\">\n",
       "  <path\n",
       "     fill=\"#2385ae\"\n",
       "     d=\"M2 3v14h16V5h-8L8 3z\"\n",
       "     id=\"path3386\" />\n",
       "  <text\n",
       "     xml:space=\"preserve\"\n",
       "     style=\"font-style:normal;font-weight:normal;font-size:13.07740307px;line-height:125%;font-family:sans-serif;letter-spacing:0px;word-spacing:0px;fill:#000000;fill-opacity:1;stroke:none;stroke-width:1px;stroke-linecap:butt;stroke-linejoin:miter;stroke-opacity:1\"\n",
       "     x=\"9.8855734\"\n",
       "     y=\"18.02062\"\n",
       "     id=\"text4206\"\n",
       "     sodipodi:linespacing=\"125%\"\n",
       "     transform=\"scale(1.0461923,0.95584726)\"><tspan\n",
       "       sodipodi:role=\"line\"\n",
       "       id=\"tspan4208\"\n",
       "       x=\"9.8855734\"\n",
       "       y=\"18.02062\"\n",
       "       style=\"font-style:normal;font-variant:normal;font-weight:bold;font-stretch:normal;font-size:13.07740307px;line-height:125%;font-family:'DejaVu Sans Mono';-inkscape-font-specification:'DejaVu Sans Mono, Bold';text-align:start;writing-mode:lr-tb;text-anchor:start;fill:#ff0000;fill-opacity:1\">A</tspan></text>\n",
       "</svg>\n",
       "mygrp<ul><li>\n",
       "<svg style=\"display: inline-block !important;margin-right: 2px !important;vertical-align: bottom;\" xmlns=\"http://www.w3.org/2000/svg\" width=\"20\"\n",
       "  height=\"20\" viewBox=\"0 0 20 20\">\n",
       "    <path fill=\"#2385ae\" d=\"M2 3v14h16V5h-8L8 3z\"/>\n",
       "</svg>\n",
       "data<ul><li><img style=\"display: inline-block !important;margin-right: 2px !important;vertical-align: bottom;\" src=\"data:image/png;base64,iVBORw0KGgoAAAANSUhEUgAAABMAAAATCAIAAAD9MqGbAAAABmJLR0QA/wD/AP+gvaeTAAAACXBIWXMAAAsTAAALEwEAmpwYAAAAB3RJTUUH4QIDEiMuBGSTuQAAAKFJREFUOMvFU9EOxCAIw+W+lX0T/dnugelQzpiZS64xERUsWCwkZQuH7OLjE4Clq6p2a5IkzczMWNHsbDQUrxOAqr5iPr4eqOpg5Gwfzna8ZL6viGVYRa4tb+6r8kR6kuPTL/UcKsyGnidmkZnZpRIRKcWDhWx3/bpOAL4E4ITiH8Pt2H2DNp0AInFMVRnbIJLUp+p6aBZ8+zWfkHn5w8++ABRp3VoL9MWtAAAAAElFTkSuQmCC\"/><strong>Dataset (600, 400) float64 </strong> (file=test.h5, path=/mygrp/data/myarray)</li><li>\n",
       "<svg style=\"display: inline-block !important;margin-right: 2px !important;vertical-align: bottom;\" xmlns=\"http://www.w3.org/2000/svg\" width=\"20\"\n",
       "  height=\"20\" viewBox=\"0 0 20 20\">\n",
       "    <path fill=\"#2385ae\" d=\"M2 3v14h16V5h-8L8 3z\"/>\n",
       "</svg>\n",
       "somegroup</li></ul></li><li>\n",
       "<svg style=\"display: inline-block !important;margin-right: 2px !important;vertical-align: bottom;\" xmlns=\"http://www.w3.org/2000/svg\" width=\"20\"\n",
       "  height=\"20\" viewBox=\"0 0 20 20\">\n",
       "    <path fill=\"#2385ae\" d=\"M2 3v14h16V5h-8L8 3z\"/>\n",
       "</svg>\n",
       "datagrp2</li><li>\n",
       "<svg style=\"display: inline-block !important;margin-right: 2px !important;vertical-align: bottom;\" xmlns=\"http://www.w3.org/2000/svg\" width=\"20\"\n",
       "  height=\"20\" viewBox=\"0 0 20 20\">\n",
       "    <path fill=\"#2385ae\" d=\"M2 3v14h16V5h-8L8 3z\"/>\n",
       "</svg>\n",
       "datagrp3</li></ul></li><li>\n",
       "<svg style=\"display: inline-block !important;margin-right: 2px !important;vertical-align: bottom;\" xmlns=\"http://www.w3.org/2000/svg\" width=\"20\"\n",
       "  height=\"20\" viewBox=\"0 0 20 20\">\n",
       "    <path fill=\"#2385ae\" d=\"M2 3v14h16V5h-8L8 3z\"/>\n",
       "</svg>\n",
       "test<ul><li>\n",
       "<svg style=\"display: inline-block !important;margin-right: 2px !important;vertical-align: bottom;\" xmlns=\"http://www.w3.org/2000/svg\" width=\"20\"\n",
       "  height=\"20\" viewBox=\"0 0 20 20\">\n",
       "    <path fill=\"#2385ae\" d=\"M2 3v14h16V5h-8L8 3z\"/>\n",
       "</svg>\n",
       "test2<ul><li>\n",
       "<svg style=\"display: inline-block !important;margin-right: 2px !important;vertical-align: bottom;\" xmlns=\"http://www.w3.org/2000/svg\" width=\"20\"\n",
       "  height=\"20\" viewBox=\"0 0 20 20\">\n",
       "    <path fill=\"#2385ae\" d=\"M2 3v14h16V5h-8L8 3z\"/>\n",
       "</svg>\n",
       "test3</li></ul></li></ul></li></ul></li></ul>"
      ],
      "text/plain": [
       "── /\n",
       "    ├─ mygrp\n",
       "    │   ├─ data\n",
       "    │   │   ├─ <Dataset (600, 400) float64 (db=test.h5, path=/mygrp/data/myarray)>\n",
       "    │   │   └─ somegroup\n",
       "    │   ├─ datagrp2\n",
       "    │   └─ datagrp3\n",
       "    └─ test\n",
       "        └─ test2\n",
       "            └─ test3"
      ]
     },
     "execution_count": 36,
     "metadata": {},
     "output_type": "execute_result"
    }
   ],
   "source": [
    "db.tree()"
   ]
  },
  {
   "cell_type": "code",
   "execution_count": 37,
   "metadata": {
    "collapsed": false
   },
   "outputs": [
    {
     "data": {
      "text/html": [
       "<style type=\"text/css\">\n",
       ".hurraytree, .hurraytree ul{\n",
       "  font: normal normal 14px/20px Helvetica, Arial, sans-serif;\n",
       "  list-style-type: none;\n",
       "  margin-left: 0 0 0 2px !important;\n",
       "  padding: 0;\n",
       "  position: relative;\n",
       "  overflow:hidden;\n",
       "}\n",
       "\n",
       ".hurraytree li{\n",
       "  margin: 0;\n",
       "  padding: 0 12px;\n",
       "  position: relative;\n",
       "}\n",
       "\n",
       ".hurraytree li::before, .hurraytree li::after{\n",
       "  content: '';\n",
       "  position: absolute;\n",
       "  left: 0;\n",
       "}\n",
       "\n",
       "/* horizontal line on inner list items */\n",
       ".hurraytree li::before{\n",
       "  border-top: 1px solid #999999;\n",
       "  top: 10px;\n",
       "  width: 10px;\n",
       "  height: 0;\n",
       "}\n",
       "\n",
       "/* vertical line on list items */\n",
       ".hurraytree li:after{\n",
       "  border-left: 1px solid #999999;\n",
       "  height: 100%;\n",
       "  width: 0px;\n",
       "  top: -10px !important;\n",
       "}\n",
       "\n",
       "/* lower line on list items from the first level because they don't have\n",
       "   parents */\n",
       ".hurraytree > li::after{\n",
       "  top: 10px;\n",
       "}\n",
       "\n",
       "/* hide line from the last of the first level list items */\n",
       ".hurraytree > li:last-child::after{\n",
       "  display: none;\n",
       "}\n",
       "</style><ul class=\"hurraytree\">\n",
       "<li>\n",
       "<svg style=\"display: inline-block !important;margin-right: 2px !important;vertical-align: bottom;\" xmlns=\"http://www.w3.org/2000/svg\" width=\"20\"\n",
       "  height=\"20\" viewBox=\"0 0 20 20\">\n",
       "    <path fill=\"#2385ae\" d=\"M2 3v14h16V5h-8L8 3z\"/>\n",
       "</svg>\n",
       "data<ul><li><img style=\"display: inline-block !important;margin-right: 2px !important;vertical-align: bottom;\" src=\"data:image/png;base64,iVBORw0KGgoAAAANSUhEUgAAABMAAAATCAIAAAD9MqGbAAAABmJLR0QA/wD/AP+gvaeTAAAACXBIWXMAAAsTAAALEwEAmpwYAAAAB3RJTUUH4QIDEiMuBGSTuQAAAKFJREFUOMvFU9EOxCAIw+W+lX0T/dnugelQzpiZS64xERUsWCwkZQuH7OLjE4Clq6p2a5IkzczMWNHsbDQUrxOAqr5iPr4eqOpg5Gwfzna8ZL6viGVYRa4tb+6r8kR6kuPTL/UcKsyGnidmkZnZpRIRKcWDhWx3/bpOAL4E4ITiH8Pt2H2DNp0AInFMVRnbIJLUp+p6aBZ8+zWfkHn5w8++ABRp3VoL9MWtAAAAAElFTkSuQmCC\"/><strong>Dataset (600, 400) float64 </strong> (file=test.h5, path=/mygrp/data/myarray)</li><li>\n",
       "<svg style=\"display: inline-block !important;margin-right: 2px !important;vertical-align: bottom;\" xmlns=\"http://www.w3.org/2000/svg\" width=\"20\"\n",
       "  height=\"20\" viewBox=\"0 0 20 20\">\n",
       "    <path fill=\"#2385ae\" d=\"M2 3v14h16V5h-8L8 3z\"/>\n",
       "</svg>\n",
       "somegroup</li></ul></li></ul>"
      ],
      "text/plain": [
       "── data\n",
       "    ├─ <Dataset (600, 400) float64 (db=test.h5, path=/mygrp/data/myarray)>\n",
       "    └─ somegroup"
      ]
     },
     "execution_count": 37,
     "metadata": {},
     "output_type": "execute_result"
    }
   ],
   "source": [
    "db[\"/mygrp/data\"].tree()"
   ]
  },
  {
   "cell_type": "markdown",
   "metadata": {},
   "source": [
    "If you're not in a jupyter notebook or ipython console, ``tree()`` will give you a text based representation:"
   ]
  },
  {
   "cell_type": "code",
   "execution_count": 38,
   "metadata": {
    "collapsed": false
   },
   "outputs": [
    {
     "name": "stdout",
     "output_type": "stream",
     "text": [
      "── /\n",
      "    ├─ mygrp\n",
      "    │   ├─ data\n",
      "    │   │   ├─ <Dataset (600, 400) float64 (db=test.h5, path=/mygrp/data/myarray)>\n",
      "    │   │   └─ somegroup\n",
      "    │   ├─ datagrp2\n",
      "    │   └─ datagrp3\n",
      "    └─ test\n",
      "        └─ test2\n",
      "            └─ test3\n"
     ]
    }
   ],
   "source": [
    "print(str(db.tree()))"
   ]
  },
  {
   "cell_type": "code",
   "execution_count": null,
   "metadata": {
    "collapsed": true
   },
   "outputs": [],
   "source": []
  }
 ],
 "metadata": {
  "kernelspec": {
   "display_name": "Python 3",
   "language": "python",
   "name": "python3"
  },
  "language_info": {
   "codemirror_mode": {
    "name": "ipython",
    "version": 3
   },
   "file_extension": ".py",
   "mimetype": "text/x-python",
   "name": "python",
   "nbconvert_exporter": "python",
   "pygments_lexer": "ipython3",
   "version": "3.5.2"
  }
 },
 "nbformat": 4,
 "nbformat_minor": 2
}
