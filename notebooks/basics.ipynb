{
 "cells": [
  {
   "cell_type": "markdown",
   "metadata": {},
   "source": [
    "# Hurray basic usage"
   ]
  },
  {
   "cell_type": "code",
   "execution_count": 1,
   "metadata": {
    "collapsed": true
   },
   "outputs": [],
   "source": [
    "import os\n",
    "import sys\n",
    "module_path = os.path.abspath(os.path.join('..'))\n",
    "if module_path not in sys.path:\n",
    "    sys.path.append(module_path)"
   ]
  },
  {
   "cell_type": "code",
   "execution_count": 2,
   "metadata": {
    "collapsed": false
   },
   "outputs": [],
   "source": [
    "import hurraypy as hr\n",
    "import numpy as np"
   ]
  },
  {
   "cell_type": "markdown",
   "metadata": {},
   "source": [
    "Make sure a hurray server instance is running at localhost:2222."
   ]
  },
  {
   "cell_type": "code",
   "execution_count": 3,
   "metadata": {
    "collapsed": false
   },
   "outputs": [
    {
     "data": {
      "text/plain": [
       "'0.0.2'"
      ]
     },
     "execution_count": 3,
     "metadata": {},
     "output_type": "execute_result"
    }
   ],
   "source": [
    "hr.__version__"
   ]
  },
  {
   "cell_type": "code",
   "execution_count": 4,
   "metadata": {
    "collapsed": false
   },
   "outputs": [],
   "source": [
    "conn = hr.connect('localhost', '2222')"
   ]
  },
  {
   "cell_type": "code",
   "execution_count": 5,
   "metadata": {
    "collapsed": false
   },
   "outputs": [],
   "source": [
    "conn.create_file(\"test.h5\", overwrite=True)"
   ]
  },
  {
   "cell_type": "code",
   "execution_count": 6,
   "metadata": {
    "collapsed": false
   },
   "outputs": [],
   "source": [
    "db = conn.use_file(\"test.h5\")"
   ]
  },
  {
   "cell_type": "code",
   "execution_count": 7,
   "metadata": {
    "collapsed": false
   },
   "outputs": [
    {
     "data": {
      "text/html": [
       "<strong>Group /</strong> (file=test.h5)"
      ],
      "text/plain": [
       "<Group (db=test.h5, path=/)>"
      ]
     },
     "execution_count": 7,
     "metadata": {},
     "output_type": "execute_result"
    }
   ],
   "source": [
    "db"
   ]
  },
  {
   "cell_type": "code",
   "execution_count": 8,
   "metadata": {
    "collapsed": false
   },
   "outputs": [
    {
     "name": "stdout",
     "output_type": "stream",
     "text": [
      "<Group (db=test.h5, path=/)>\n"
     ]
    }
   ],
   "source": [
    "with conn.use_file(\"test.h5\") as f:\n",
    "    print(f)"
   ]
  },
  {
   "cell_type": "code",
   "execution_count": 9,
   "metadata": {
    "collapsed": false
   },
   "outputs": [],
   "source": [
    "db.attrs[\"bla\"] = 123"
   ]
  },
  {
   "cell_type": "code",
   "execution_count": 10,
   "metadata": {
    "collapsed": false
   },
   "outputs": [
    {
     "data": {
      "text/plain": [
       "123"
      ]
     },
     "execution_count": 10,
     "metadata": {},
     "output_type": "execute_result"
    }
   ],
   "source": [
    "db.attrs[\"bla\"]"
   ]
  },
  {
   "cell_type": "code",
   "execution_count": 11,
   "metadata": {
    "collapsed": false
   },
   "outputs": [
    {
     "data": {
      "text/html": [
       "<strong>Group /test</strong> (file=test.h5)"
      ],
      "text/plain": [
       "<Group (db=test.h5, path=/test)>"
      ]
     },
     "execution_count": 11,
     "metadata": {},
     "output_type": "execute_result"
    }
   ],
   "source": [
    "db.create_group(\"test\")"
   ]
  },
  {
   "cell_type": "code",
   "execution_count": 12,
   "metadata": {
    "collapsed": false
   },
   "outputs": [
    {
     "data": {
      "text/plain": [
       "('test',)"
      ]
     },
     "execution_count": 12,
     "metadata": {},
     "output_type": "execute_result"
    }
   ],
   "source": [
    "db.keys()"
   ]
  },
  {
   "cell_type": "code",
   "execution_count": 13,
   "metadata": {
    "collapsed": false
   },
   "outputs": [
    {
     "data": {
      "text/html": [
       "<strong>Group /test</strong> (file=test.h5)"
      ],
      "text/plain": [
       "<Group (db=test.h5, path=/test)>"
      ]
     },
     "execution_count": 13,
     "metadata": {},
     "output_type": "execute_result"
    }
   ],
   "source": [
    "db[\"test\"]"
   ]
  },
  {
   "cell_type": "code",
   "execution_count": 14,
   "metadata": {
    "collapsed": false
   },
   "outputs": [],
   "source": [
    "grp = db.create_group(\"mygrp/data\")"
   ]
  },
  {
   "cell_type": "code",
   "execution_count": 15,
   "metadata": {
    "collapsed": false
   },
   "outputs": [
    {
     "data": {
      "text/plain": [
       "('mygrp', 'test')"
      ]
     },
     "execution_count": 15,
     "metadata": {},
     "output_type": "execute_result"
    }
   ],
   "source": [
    "db.keys()"
   ]
  },
  {
   "cell_type": "code",
   "execution_count": 16,
   "metadata": {
    "collapsed": false
   },
   "outputs": [
    {
     "data": {
      "text/html": [
       "<strong>Group /mygrp/data</strong> (file=test.h5)"
      ],
      "text/plain": [
       "<Group (db=test.h5, path=/mygrp/data)>"
      ]
     },
     "execution_count": 16,
     "metadata": {},
     "output_type": "execute_result"
    }
   ],
   "source": [
    "db[\"mygrp/data\"]"
   ]
  },
  {
   "cell_type": "code",
   "execution_count": 17,
   "metadata": {
    "collapsed": false
   },
   "outputs": [
    {
     "data": {
      "text/plain": [
       "'/mygrp/data'"
      ]
     },
     "execution_count": 17,
     "metadata": {},
     "output_type": "execute_result"
    }
   ],
   "source": [
    "grp.path"
   ]
  },
  {
   "cell_type": "code",
   "execution_count": 18,
   "metadata": {
    "collapsed": false
   },
   "outputs": [
    {
     "data": {
      "text/html": [
       "<strong>Group /mygrp</strong> (file=test.h5)"
      ],
      "text/plain": [
       "<Group (db=test.h5, path=/mygrp)>"
      ]
     },
     "execution_count": 18,
     "metadata": {},
     "output_type": "execute_result"
    }
   ],
   "source": [
    "db[\"/mygrp\"]"
   ]
  },
  {
   "cell_type": "code",
   "execution_count": 19,
   "metadata": {
    "collapsed": false
   },
   "outputs": [
    {
     "data": {
      "text/plain": [
       "('data',)"
      ]
     },
     "execution_count": 19,
     "metadata": {},
     "output_type": "execute_result"
    }
   ],
   "source": [
    "db[\"/mygrp\"].keys()"
   ]
  },
  {
   "cell_type": "code",
   "execution_count": 20,
   "metadata": {
    "collapsed": true
   },
   "outputs": [],
   "source": [
    "data = np.random.random((400, 300))"
   ]
  },
  {
   "cell_type": "code",
   "execution_count": 21,
   "metadata": {
    "collapsed": false
   },
   "outputs": [
    {
     "data": {
      "text/html": [
       "<strong>Dataset (400, 300) float64 </strong> (file=test.h5, path=/mygrp/data/myarray)"
      ],
      "text/plain": [
       "<HDF5 Dataset (db=test.h5, path=/mygrp/data/myarray)>"
      ]
     },
     "execution_count": 21,
     "metadata": {},
     "output_type": "execute_result"
    }
   ],
   "source": [
    "grp.create_dataset(\"myarray\", data=data)"
   ]
  },
  {
   "cell_type": "code",
   "execution_count": 22,
   "metadata": {
    "collapsed": true
   },
   "outputs": [],
   "source": [
    "dst = db[\"/mygrp/data/myarray\"]"
   ]
  },
  {
   "cell_type": "code",
   "execution_count": 23,
   "metadata": {
    "collapsed": false
   },
   "outputs": [
    {
     "data": {
      "text/html": [
       "<strong>Dataset (400, 300) float64 </strong> (file=test.h5, path=/mygrp/data/myarray)"
      ],
      "text/plain": [
       "<HDF5 Dataset (db=test.h5, path=/mygrp/data/myarray)>"
      ]
     },
     "execution_count": 23,
     "metadata": {},
     "output_type": "execute_result"
    }
   ],
   "source": [
    "dst"
   ]
  },
  {
   "cell_type": "code",
   "execution_count": 24,
   "metadata": {
    "collapsed": false
   },
   "outputs": [
    {
     "data": {
      "text/plain": [
       "(400, 300)"
      ]
     },
     "execution_count": 24,
     "metadata": {},
     "output_type": "execute_result"
    }
   ],
   "source": [
    "dst.shape"
   ]
  },
  {
   "cell_type": "code",
   "execution_count": 25,
   "metadata": {
    "collapsed": false
   },
   "outputs": [
    {
     "data": {
      "text/plain": [
       "'float64'"
      ]
     },
     "execution_count": 25,
     "metadata": {},
     "output_type": "execute_result"
    }
   ],
   "source": [
    "dst.dtype"
   ]
  },
  {
   "cell_type": "code",
   "execution_count": 26,
   "metadata": {
    "collapsed": false
   },
   "outputs": [
    {
     "data": {
      "text/plain": [
       "array([[ 0.83063874,  0.70722359,  0.26765122, ...,  0.6359454 ,\n",
       "         0.69543039,  0.0086631 ],\n",
       "       [ 0.59837683,  0.61114347,  0.91906736, ...,  0.19347898,\n",
       "         0.0525709 ,  0.61306604],\n",
       "       [ 0.07957747,  0.36264285,  0.73616217, ...,  0.96438643,\n",
       "         0.03303827,  0.41737951],\n",
       "       ..., \n",
       "       [ 0.19440969,  0.3411571 ,  0.31844726, ...,  0.75485596,\n",
       "         0.10852694,  0.94398296],\n",
       "       [ 0.28712697,  0.10911224,  0.74616415, ...,  0.34282085,\n",
       "         0.55537038,  0.52431087],\n",
       "       [ 0.60053899,  0.96263167,  0.7762799 , ...,  0.21673259,\n",
       "         0.73328351,  0.11652195]])"
      ]
     },
     "execution_count": 26,
     "metadata": {},
     "output_type": "execute_result"
    }
   ],
   "source": [
    "dst[:]"
   ]
  },
  {
   "cell_type": "code",
   "execution_count": 27,
   "metadata": {
    "collapsed": true
   },
   "outputs": [],
   "source": [
    "dst[0, 0:3] = 999"
   ]
  },
  {
   "cell_type": "code",
   "execution_count": 28,
   "metadata": {
    "collapsed": false
   },
   "outputs": [
    {
     "data": {
      "text/plain": [
       "array([  9.99000000e+02,   9.99000000e+02,   9.99000000e+02,\n",
       "         8.75357701e-01])"
      ]
     },
     "execution_count": 28,
     "metadata": {},
     "output_type": "execute_result"
    }
   ],
   "source": [
    "dst[0, 0:4]"
   ]
  },
  {
   "cell_type": "code",
   "execution_count": 29,
   "metadata": {
    "collapsed": false
   },
   "outputs": [
    {
     "data": {
      "text/html": [
       "<strong>Group /mygrp/datagrp3</strong> (file=test.h5)"
      ],
      "text/plain": [
       "<Group (db=test.h5, path=/mygrp/datagrp3)>"
      ]
     },
     "execution_count": 29,
     "metadata": {},
     "output_type": "execute_result"
    }
   ],
   "source": [
    "db.create_group(\"/mygrp/data/somegroup\")\n",
    "db.create_group(\"/mygrp/datagrp2\")\n",
    "db.create_group(\"/mygrp/datagrp3\")"
   ]
  },
  {
   "cell_type": "code",
   "execution_count": 30,
   "metadata": {
    "collapsed": false
   },
   "outputs": [
    {
     "data": {
      "text/html": [
       "<style type=\"text/css\">\n",
       ".hurraynode {\n",
       "  display: inline-block !important;\n",
       "  margin-right: 2px !important;\n",
       "  vertical-align: bottom;\n",
       "}\n",
       "\n",
       ".hurraytree, .hurraytree ul{\n",
       "  font: normal normal 14px/20px Helvetica, Arial, sans-serif;\n",
       "  list-style-type: none;\n",
       "  margin-left: 0 0 0 2px !important;\n",
       "  padding: 0;\n",
       "  position: relative;\n",
       "  overflow:hidden;\n",
       "}\n",
       "\n",
       ".hurraytree li{\n",
       "  margin: 0;\n",
       "  padding: 0 12px;\n",
       "  position: relative;\n",
       "}\n",
       "\n",
       ".hurraytree li::before, .hurraytree li::after{\n",
       "  content: '';\n",
       "  position: absolute;\n",
       "  left: 0;\n",
       "}\n",
       "\n",
       "/* horizontal line on inner list items */\n",
       ".hurraytree li::before{\n",
       "  border-top: 1px solid #999999;\n",
       "  top: 10px;\n",
       "  width: 10px;\n",
       "  height: 0;\n",
       "}\n",
       "\n",
       "/* vertical line on list items */\n",
       ".hurraytree li:after{\n",
       "  border-left: 1px solid #999999;\n",
       "  height: 100%;\n",
       "  width: 0px;\n",
       "  top: -10px !important;\n",
       "}\n",
       "\n",
       "/* lower line on list items from the first level because they don't have\n",
       "   parents */\n",
       ".hurraytree > li::after{\n",
       "  top: 10px;\n",
       "}\n",
       "\n",
       "/* hide line from the last of the first level list items */\n",
       ".hurraytree > li:last-child::after{\n",
       "  display: none;\n",
       "}\n",
       "</style><ul class=\"hurraytree\">\n",
       "<li>\n",
       "<svg class=\"hurraynode\" xmlns=\"http://www.w3.org/2000/svg\" width=\"20\"\n",
       "  height=\"20\" viewBox=\"0 0 20 20\">\n",
       "    <path fill=\"#2385ae\" d=\"M2 3v14h16V5h-8L8 3z\"/>\n",
       "</svg>\n",
       "/<ul><li>\n",
       "<svg class=\"hurraynode\" xmlns=\"http://www.w3.org/2000/svg\" width=\"20\"\n",
       "  height=\"20\" viewBox=\"0 0 20 20\">\n",
       "    <path fill=\"#2385ae\" d=\"M2 3v14h16V5h-8L8 3z\"/>\n",
       "</svg>\n",
       "mygrp<ul><li>\n",
       "<svg class=\"hurraynode\" xmlns=\"http://www.w3.org/2000/svg\" width=\"20\"\n",
       "  height=\"20\" viewBox=\"0 0 20 20\">\n",
       "    <path fill=\"#2385ae\" d=\"M2 3v14h16V5h-8L8 3z\"/>\n",
       "</svg>\n",
       "data<ul><li><img class=\"hurraynode\" src=\"data:image/png;base64,iVBORw0KGgoAAAANSUhEUgAAABMAAAATCAIAAAD9MqGbAAAABmJLR0QA/wD/AP+gvaeTAAAACXBIWXMAAAsTAAALEwEAmpwYAAAAB3RJTUUH4QIDDjIxz4nnSAAAAIVJREFUOMvFU0sWgCAITF9nnTvBZacFiQa9Z9mi2TiC8nGwkNyWULdV7Lao6vQogMueJEkRERE2OM/EUaxPVQXwKnO9dQAIJFfbc7p7mvkMMbYhDbm3bFxXpd+0IuPTT/UMHWaSNd9DpDGzSeV2N36dvs+qBG1WVHkygJdqX122assPP/sA4JrfRKa1vDcAAAAASUVORK5CYII=\"/><strong>Dataset (400, 300) float64 </strong> (file=test.h5, path=/mygrp/data/myarray)</li><li>\n",
       "<svg class=\"hurraynode\" xmlns=\"http://www.w3.org/2000/svg\" width=\"20\"\n",
       "  height=\"20\" viewBox=\"0 0 20 20\">\n",
       "    <path fill=\"#2385ae\" d=\"M2 3v14h16V5h-8L8 3z\"/>\n",
       "</svg>\n",
       "somegroup</li></ul></li><li>\n",
       "<svg class=\"hurraynode\" xmlns=\"http://www.w3.org/2000/svg\" width=\"20\"\n",
       "  height=\"20\" viewBox=\"0 0 20 20\">\n",
       "    <path fill=\"#2385ae\" d=\"M2 3v14h16V5h-8L8 3z\"/>\n",
       "</svg>\n",
       "datagrp2</li><li>\n",
       "<svg class=\"hurraynode\" xmlns=\"http://www.w3.org/2000/svg\" width=\"20\"\n",
       "  height=\"20\" viewBox=\"0 0 20 20\">\n",
       "    <path fill=\"#2385ae\" d=\"M2 3v14h16V5h-8L8 3z\"/>\n",
       "</svg>\n",
       "datagrp3</li></ul></li><li>\n",
       "<svg class=\"hurraynode\" xmlns=\"http://www.w3.org/2000/svg\" width=\"20\"\n",
       "  height=\"20\" viewBox=\"0 0 20 20\">\n",
       "    <path fill=\"#2385ae\" d=\"M2 3v14h16V5h-8L8 3z\"/>\n",
       "</svg>\n",
       "test</li></ul></li></ul>"
      ],
      "text/plain": [
       "├─ /\n",
       "\n",
       "├── /mygrp\n",
       "\n",
       "├─── /mygrp/data\n",
       "\n",
       "├──── /mygrp/data/myarray\n",
       "\n",
       "├──── /mygrp/data/somegroup\n",
       "\n",
       "├─── /mygrp/datagrp2\n",
       "\n",
       "├─── /mygrp/datagrp3\n",
       "\n",
       "├── /test\n"
      ]
     },
     "execution_count": 30,
     "metadata": {},
     "output_type": "execute_result"
    }
   ],
   "source": [
    "db.tree()  # displays a tree with groups and datasets"
   ]
  }
 ],
 "metadata": {
  "kernelspec": {
   "display_name": "Python 3",
   "language": "python",
   "name": "python3"
  },
  "language_info": {
   "codemirror_mode": {
    "name": "ipython",
    "version": 3
   },
   "file_extension": ".py",
   "mimetype": "text/x-python",
   "name": "python",
   "nbconvert_exporter": "python",
   "pygments_lexer": "ipython3",
   "version": "3.5.2"
  }
 },
 "nbformat": 4,
 "nbformat_minor": 2
}
